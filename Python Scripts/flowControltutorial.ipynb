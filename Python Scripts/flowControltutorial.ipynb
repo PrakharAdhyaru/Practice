{
 "cells": [
  {
   "cell_type": "markdown",
   "id": "ca18a751",
   "metadata": {},
   "source": [
    "Flow Control Tutorial\n",
    "1. Loops\n",
    "2. conditionals\n"
   ]
  },
  {
   "cell_type": "code",
   "execution_count": null,
   "id": "b5156fcb",
   "metadata": {},
   "outputs": [],
   "source": [
    "dict_1 = {1:\"Prakhar\",1:\"Adhyaru\"}\n",
    "print(dict_1)"
   ]
  },
  {
   "cell_type": "code",
   "execution_count": 1,
   "id": "9c191ace",
   "metadata": {
    "scrolled": true
   },
   "outputs": [
    {
     "name": "stdout",
     "output_type": "stream",
     "text": [
      "1\n",
      "2\n",
      "3\n",
      "4\n",
      "5\n",
      "Prakhar\n",
      "6\n",
      "7\n",
      "8\n",
      "9\n",
      "100\n",
      "counter  11\n"
     ]
    }
   ],
   "source": [
    "counter =0\n",
    "simple_list=[1,2,3,4,5,'Prakhar',6,7,8,9,100]\n",
    "for i in simple_list:\n",
    "    print(i)\n",
    "    counter = counter+1\n",
    "print('counter ', counter)"
   ]
  },
  {
   "cell_type": "code",
   "execution_count": 3,
   "id": "2b0d1dd2",
   "metadata": {
    "scrolled": true
   },
   "outputs": [
    {
     "name": "stdout",
     "output_type": "stream",
     "text": [
      "value if i  2   ,value of j   5\n",
      "10\n",
      "value if i  2   ,value of j   Prakhar\n",
      "PrakharPrakhar\n",
      "value if i  2   ,value of j   6\n",
      "12\n",
      "outside loop j\n",
      "value if i  3   ,value of j   5\n",
      "15\n",
      "value if i  3   ,value of j   Prakhar\n",
      "PrakharPrakharPrakhar\n",
      "value if i  3   ,value of j   6\n",
      "18\n",
      "outside loop j\n",
      "value if i  4   ,value of j   5\n",
      "20\n",
      "value if i  4   ,value of j   Prakhar\n",
      "PrakharPrakharPrakharPrakhar\n",
      "value if i  4   ,value of j   6\n",
      "24\n",
      "outside loop j\n",
      "outside loop i\n"
     ]
    }
   ],
   "source": [
    "for i in simple_list[1:4]:\n",
    "    for j in simple_list[4:7]:\n",
    "        print('value if i ',i, '  ,value of j  ',j)\n",
    "        print(i*j)\n",
    "    print('outside loop j')\n",
    "print('outside loop i')\n",
    "#simple_list=[1,2,3,4,5,'Prakhar',6,7,8,9,100]"
   ]
  },
  {
   "cell_type": "code",
   "execution_count": 5,
   "id": "6b740cc1",
   "metadata": {},
   "outputs": [
    {
     "name": "stdout",
     "output_type": "stream",
     "text": [
      "range(0, 6)\n"
     ]
    }
   ],
   "source": [
    "print(range(6))"
   ]
  },
  {
   "cell_type": "code",
   "execution_count": 7,
   "id": "a6e0fa66",
   "metadata": {},
   "outputs": [
    {
     "name": "stdout",
     "output_type": "stream",
     "text": [
      "0\n",
      "1\n",
      "2\n",
      "3\n",
      "4\n",
      "5\n"
     ]
    }
   ],
   "source": [
    "for i in range(6):\n",
    "    print(i)"
   ]
  },
  {
   "cell_type": "code",
   "execution_count": 9,
   "id": "c614f74a",
   "metadata": {},
   "outputs": [
    {
     "name": "stdout",
     "output_type": "stream",
     "text": [
      "4\n",
      "5\n",
      "6\n",
      "7\n",
      "8\n",
      "9\n"
     ]
    }
   ],
   "source": [
    "for i in range(4,10):\n",
    "    print(i)"
   ]
  },
  {
   "cell_type": "code",
   "execution_count": 11,
   "id": "872e5bb8",
   "metadata": {
    "scrolled": true
   },
   "outputs": [
    {
     "name": "stdout",
     "output_type": "stream",
     "text": [
      "2\n",
      "4\n",
      "6\n",
      "8\n"
     ]
    }
   ],
   "source": [
    "for i in range(2,10,2):\n",
    "    print(i)"
   ]
  },
  {
   "cell_type": "code",
   "execution_count": 15,
   "id": "f52f1481",
   "metadata": {},
   "outputs": [
    {
     "data": {
      "text/plain": [
       "[6, 9, 12]"
      ]
     },
     "execution_count": 15,
     "metadata": {},
     "output_type": "execute_result"
    }
   ],
   "source": [
    "list(range(6,15,3))"
   ]
  },
  {
   "cell_type": "code",
   "execution_count": 17,
   "id": "97bc1358",
   "metadata": {},
   "outputs": [
    {
     "name": "stdout",
     "output_type": "stream",
     "text": [
      "4\n",
      "5\n",
      "6\n",
      "7\n",
      "8\n",
      "9\n",
      "outside while loop\n"
     ]
    }
   ],
   "source": [
    "i =4\n",
    "while(i<10):\n",
    "    print(i)\n",
    "    i= i+1\n",
    "print('outside while loop')"
   ]
  },
  {
   "cell_type": "code",
   "execution_count": 20,
   "id": "c2af37f9",
   "metadata": {},
   "outputs": [
    {
     "name": "stdout",
     "output_type": "stream",
     "text": [
      "3 is less than 10\n"
     ]
    }
   ],
   "source": [
    "i=3\n",
    "if i<10:\n",
    "    print(i,'is less than 10')\n",
    "else:\n",
    "    print(i, 'is greater than 10')\n",
    "    "
   ]
  },
  {
   "cell_type": "code",
   "execution_count": 31,
   "id": "f7469850",
   "metadata": {},
   "outputs": [
    {
     "name": "stdout",
     "output_type": "stream",
     "text": [
      "30 is in greater than 10 or equal to 10\n"
     ]
    }
   ],
   "source": [
    "i=30\n",
    "if (i>3 and i<10):\n",
    "    print(i,'is in greater than 3 and less than 10')\n",
    "elif (i>0 and i<=3):\n",
    "    print(i,'is positive inteher and it equal to 3 and less than 3')\n",
    "else:\n",
    "    print(i,'is in greater than 10 or equal to 10')\n"
   ]
  },
  {
   "cell_type": "code",
   "execution_count": 96,
   "id": "f596880e",
   "metadata": {},
   "outputs": [
    {
     "name": "stdout",
     "output_type": "stream",
     "text": [
      "10\n",
      "20\n",
      "10\n",
      "hello\n",
      "hello\n"
     ]
    }
   ],
   "source": [
    "a, b = 10, 20\n",
    "print(a)\n",
    "print(b)\n",
    "print( (b, a) [a < b] )\n",
    "\n",
    "#(if_test_false,if_test_true)[test]\n",
    "#print hello if x=0 and print bye if x=1\n",
    "x=0\n",
    "print(('hello','bye')[x])\n",
    "\n",
    "print((lambda:'hello' , lambda: 'bye')[x]())\n"
   ]
  },
  {
   "cell_type": "code",
   "execution_count": 49,
   "id": "265e5662",
   "metadata": {},
   "outputs": [
    {
     "name": "stdout",
     "output_type": "stream",
     "text": [
      "109.00999999999999\n",
      " this is my documentation string\n",
      "    this is the user defined function returns square of number plus 7\n",
      "    \n"
     ]
    }
   ],
   "source": [
    "def x2p7(x):\n",
    "    \"\"\" this is my documentation string\n",
    "    this is the user defined function returns square of number plus 7\n",
    "    \"\"\"\n",
    "#     y=x*x\n",
    "#     z=y+7\n",
    "    return (x*x)+7\n",
    "\n",
    "print(x2p7(10.1))\n",
    "print(x2p7.__doc__)"
   ]
  },
  {
   "cell_type": "code",
   "execution_count": 50,
   "id": "a8acb739",
   "metadata": {},
   "outputs": [
    {
     "data": {
      "text/plain": [
       "<function __main__.x2p7(x)>"
      ]
     },
     "execution_count": 50,
     "metadata": {},
     "output_type": "execute_result"
    }
   ],
   "source": [
    "x2p7"
   ]
  },
  {
   "cell_type": "code",
   "execution_count": 67,
   "id": "1ce93fd8",
   "metadata": {},
   "outputs": [
    {
     "name": "stdout",
     "output_type": "stream",
     "text": [
      "i 1  j 34  counter  0     z   [0, 0, 0, 0, 0, 0, 0, 0, 0, 0, 0, 0, 0, 0, 0, 0]\n",
      "i 1  j 234  counter  1     z   [34, 0, 0, 0, 0, 0, 0, 0, 0, 0, 0, 0, 0, 0, 0, 0]\n",
      "i 1  j 31  counter  2     z   [34, 234, 0, 0, 0, 0, 0, 0, 0, 0, 0, 0, 0, 0, 0, 0]\n",
      "i 1  j 888  counter  3     z   [34, 234, 31, 0, 0, 0, 0, 0, 0, 0, 0, 0, 0, 0, 0, 0]\n",
      "i 2  j 34  counter  4     z   [34, 234, 31, 888, 0, 0, 0, 0, 0, 0, 0, 0, 0, 0, 0, 0]\n",
      "i 2  j 234  counter  5     z   [34, 234, 31, 888, 68, 0, 0, 0, 0, 0, 0, 0, 0, 0, 0, 0]\n",
      "i 2  j 31  counter  6     z   [34, 234, 31, 888, 68, 468, 0, 0, 0, 0, 0, 0, 0, 0, 0, 0]\n",
      "i 2  j 888  counter  7     z   [34, 234, 31, 888, 68, 468, 62, 0, 0, 0, 0, 0, 0, 0, 0, 0]\n",
      "i 3  j 34  counter  8     z   [34, 234, 31, 888, 68, 468, 62, 1776, 0, 0, 0, 0, 0, 0, 0, 0]\n",
      "i 3  j 234  counter  9     z   [34, 234, 31, 888, 68, 468, 62, 1776, 102, 0, 0, 0, 0, 0, 0, 0]\n",
      "i 3  j 31  counter  10     z   [34, 234, 31, 888, 68, 468, 62, 1776, 102, 702, 0, 0, 0, 0, 0, 0]\n",
      "i 3  j 888  counter  11     z   [34, 234, 31, 888, 68, 468, 62, 1776, 102, 702, 93, 0, 0, 0, 0, 0]\n",
      "i 4  j 34  counter  12     z   [34, 234, 31, 888, 68, 468, 62, 1776, 102, 702, 93, 2664, 0, 0, 0, 0]\n",
      "i 4  j 234  counter  13     z   [34, 234, 31, 888, 68, 468, 62, 1776, 102, 702, 93, 2664, 136, 0, 0, 0]\n",
      "i 4  j 31  counter  14     z   [34, 234, 31, 888, 68, 468, 62, 1776, 102, 702, 93, 2664, 136, 936, 0, 0]\n",
      "i 4  j 888  counter  15     z   [34, 234, 31, 888, 68, 468, 62, 1776, 102, 702, 93, 2664, 136, 936, 124, 0]\n",
      "[34, 234, 31, 888, 68, 468, 62, 1776, 102, 702, 93, 2664, 136, 936, 124, 3552]\n"
     ]
    }
   ],
   "source": [
    "def complicated_function(list_x,list_y):\n",
    "    lenlist_x = len(list_x)\n",
    "    lenlist_y = len(list_y)\n",
    "    z=[0]*(lenlist_x*lenlist_y)\n",
    "    counter =0\n",
    "    for i in list_x:\n",
    "        for j in list_y:\n",
    "            print('i', i , ' j',j ,' counter ',counter,'    z  ',z)\n",
    "            z[counter] = i*j\n",
    "            counter = counter+1\n",
    "    return z\n",
    "\n",
    "output = complicated_function([1,2,3,4],[34,234,31,888])\n",
    "print(output)\n",
    "\n",
    "#print([1,2,3,4]*[34,234,31,888])\n",
    "#[[34, 234, 31, 888], [68, 468, 62, 1776], [102, 702, 93, 2664], [136, 936, 124, 3552]"
   ]
  },
  {
   "cell_type": "code",
   "execution_count": 74,
   "id": "2605c0d5",
   "metadata": {},
   "outputs": [
    {
     "name": "stdout",
     "output_type": "stream",
     "text": [
      "25\n",
      "5\n"
     ]
    }
   ],
   "source": [
    "def a_funct(x):\n",
    "    global global_var\n",
    "    global_var = 5\n",
    "    return global_var*x\n",
    "print(a_funct(5))\n",
    "print(global_var)"
   ]
  },
  {
   "cell_type": "code",
   "execution_count": 88,
   "id": "8aa12854",
   "metadata": {},
   "outputs": [
    {
     "name": "stdout",
     "output_type": "stream",
     "text": [
      "13\n",
      "42\n"
     ]
    }
   ],
   "source": [
    "def x2p7orig(x,y):\n",
    "    return (x*y)+7\n",
    "print(x2p7orig(2,3))\n",
    "\n",
    "x2p7v2 = lambda x,y:(x*y)+7\n",
    "print(x2p7v2(5,7))\n"
   ]
  },
  {
   "cell_type": "code",
   "execution_count": null,
   "id": "7aec512e",
   "metadata": {},
   "outputs": [],
   "source": []
  }
 ],
 "metadata": {
  "kernelspec": {
   "display_name": "Python 3 (ipykernel)",
   "language": "python",
   "name": "python3"
  },
  "language_info": {
   "codemirror_mode": {
    "name": "ipython",
    "version": 3
   },
   "file_extension": ".py",
   "mimetype": "text/x-python",
   "name": "python",
   "nbconvert_exporter": "python",
   "pygments_lexer": "ipython3",
   "version": "3.9.7"
  }
 },
 "nbformat": 4,
 "nbformat_minor": 5
}
