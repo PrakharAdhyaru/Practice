{
 "cells": [
  {
   "cell_type": "code",
   "execution_count": null,
   "id": "6f0a12ed",
   "metadata": {},
   "outputs": [],
   "source": [
    "class My_data_class:\n",
    "    def init_some_val(self,val2):\n",
    "        self.first_var = 1.2\n",
    "        self.second_var = val2\n",
    "    def multiply_vals(self):\n",
    "        return self.first_var * self.second_var\n",
    "mydataobj = My_data_class()\n",
    "mydataobj.init_some_val(1.2)\n",
    "print(mydataobj.first_var)\n",
    "print(mydataobj.multiply_vals())"
   ]
  },
  {
   "cell_type": "code",
   "execution_count": null,
   "id": "d834bc5c",
   "metadata": {
    "scrolled": true
   },
   "outputs": [],
   "source": [
    "self.second_var"
   ]
  },
  {
   "cell_type": "code",
   "execution_count": null,
   "id": "451ad531",
   "metadata": {},
   "outputs": [],
   "source": [
    "mydataobj.third_var = 222.36\n",
    "print(mydataobj.third_var)"
   ]
  },
  {
   "cell_type": "code",
   "execution_count": null,
   "id": "0f4030da",
   "metadata": {
    "scrolled": true
   },
   "outputs": [],
   "source": [
    "you = My_data_class()\n",
    "you.init_some_val(3.2)\n",
    "you.third_var = 9.6\n",
    "print(you.third_var)"
   ]
  },
  {
   "cell_type": "code",
   "execution_count": null,
   "id": "da2bac0c",
   "metadata": {},
   "outputs": [],
   "source": [
    "class Pet:\n",
    "    def __init__(self,animal_type,name,age,weight_lbs,color):\n",
    "        self.animal = animal_type\n",
    "        self.name = name\n",
    "        self.age = age\n",
    "        self.weight_lbs = weight_lbs\n",
    "        self.color = color\n",
    "        self.weight_kgs = self.calc_weight_kgs()\n",
    "    \n",
    "    def calc_weight_kgs(self):\n",
    "        return 0.453592 * self.weight_lbs\n",
    "    \n",
    "    def describe_pet(self):\n",
    "        print('This pet is a ',self.color, ' color ' , self.animal)\n",
    "        print('This pet\\'s name is ',self.name, ' and it is  ' , self.age,' years old')\n",
    "        print('This pet weighs ', self.weight_lbs,' pounds which is ', round(self.weight_kgs,2),' kilograms' )\n",
    "        "
   ]
  },
  {
   "cell_type": "code",
   "execution_count": null,
   "id": "7a063ef5",
   "metadata": {},
   "outputs": [],
   "source": [
    "my_cat = Pet('cat','Bilauw',3,7.8,'orange')\n",
    "my_dog = Pet('dog','Moti',4,11.8,'brown')\n",
    "my_cat.describe_pet()\n",
    "print('')\n",
    "my_dog.describe_pet()"
   ]
  },
  {
   "cell_type": "code",
   "execution_count": null,
   "id": "3665c230",
   "metadata": {},
   "outputs": [],
   "source": [
    "print(my_cat.color)\n",
    "\n",
    "print(my_cat.age)\n",
    "print(my_dog.color)\n",
    "print(my_dog.age)"
   ]
  },
  {
   "cell_type": "code",
   "execution_count": null,
   "id": "0092437c",
   "metadata": {},
   "outputs": [],
   "source": [
    "my_cat.weight_lbs = 5\n",
    "print(my_cat.weight_lbs)\n",
    "print(my_cat.weight_kgs)"
   ]
  },
  {
   "cell_type": "code",
   "execution_count": null,
   "id": "f6a42b19",
   "metadata": {},
   "outputs": [],
   "source": [
    "print(my_cat.calc_weight_kgs())\n",
    "print(my_dog.calc_weight_kgs())\n",
    "print(my_cat.weight_kgs)\n",
    "my_cat.weight_kgs = my_cat.calc_weight_kgs()\n",
    "print(my_cat.weight_kgs)"
   ]
  },
  {
   "cell_type": "code",
   "execution_count": null,
   "id": "3bdecff7",
   "metadata": {},
   "outputs": [],
   "source": [
    "def least_difference(a, b, c):\n",
    "    diff1 = abs(a - b)\n",
    "    diff2 = abs(b - c)\n",
    "    diff3 = abs(a - c)\n",
    "    return min(diff1, diff2, diff3)\n",
    "\n",
    "print(\n",
    "    least_difference(1, 10, 100),\n",
    "    least_difference(1, 10, 10),\n",
    "    least_difference(5, 6, 7), # Python allows trailing commas in argument lists. How nice is that?\n",
    ")"
   ]
  },
  {
   "cell_type": "code",
   "execution_count": null,
   "id": "9340e94d",
   "metadata": {},
   "outputs": [],
   "source": [
    "var1 = \"name\"\n",
    "my_dict = {var1:2,\"var2\":16}\n",
    "print(my_dict)"
   ]
  },
  {
   "cell_type": "code",
   "execution_count": null,
   "id": "7d4043e8",
   "metadata": {
    "scrolled": true
   },
   "outputs": [],
   "source": [
    "array = [1,2,3,4,5]\n",
    "for i in array:\n",
    "    print(array[i-1])"
   ]
  },
  {
   "cell_type": "code",
   "execution_count": null,
   "id": "c7019741",
   "metadata": {},
   "outputs": [],
   "source": [
    "import os\n",
    "print(os.name)\n",
    "os.getcwd()\n",
    "print(os.getcwd())\n"
   ]
  },
  {
   "cell_type": "code",
   "execution_count": null,
   "id": "52f74983",
   "metadata": {},
   "outputs": [],
   "source": [
    "os.listdir('.')"
   ]
  },
  {
   "cell_type": "code",
   "execution_count": null,
   "id": "dd6ce832",
   "metadata": {},
   "outputs": [],
   "source": [
    "os.listdir('C:\\\\Users\\\\prakharadhyaru\\\\Documents')"
   ]
  },
  {
   "cell_type": "code",
   "execution_count": null,
   "id": "9ac5478d",
   "metadata": {},
   "outputs": [],
   "source": [
    "os.mkdir('C:\\\\Users\\\\prakharadhyaru\\\\Documents\\\\Python Scripts\\\\NewDir')"
   ]
  },
  {
   "cell_type": "code",
   "execution_count": null,
   "id": "1213d714",
   "metadata": {},
   "outputs": [],
   "source": [
    "os.rename('NewDir','renameNewDir')"
   ]
  },
  {
   "cell_type": "code",
   "execution_count": null,
   "id": "0e940440",
   "metadata": {},
   "outputs": [],
   "source": [
    "file = open('renameNewDir\\\\NewText.txt','w')\n",
    "file.write(\"Hello\\n\")\n",
    "file.write(\"World!!\")\n",
    "file.close()\n",
    "\n",
    "fileRead = open('renameNewDir\\\\NewText.txt','r')\n",
    "\n",
    "print(fileRead.read())"
   ]
  },
  {
   "cell_type": "code",
   "execution_count": null,
   "id": "f426b8dc",
   "metadata": {},
   "outputs": [],
   "source": [
    "# import modules used here -- sys is a very standard one\n",
    "import sys\n",
    "\n",
    "# Gather our code in a main() function\n",
    "def main():\n",
    "    print ('Hello there', sys.argv[1])\n",
    "    # Command line args are in sys.argv[1], sys.argv[2] ...\n",
    "    # sys.argv[0] is the script name itself and can be ignored\n",
    "\n",
    "# Standard boilerplate to call the main() function to begin\n",
    "# the program.\n",
    "if __name__ == '__main__':\n",
    "    main()"
   ]
  },
  {
   "cell_type": "markdown",
   "id": "af0d54ba",
   "metadata": {},
   "source": [
    "## How to run python by passing argument argv\n",
    "save the program which accepts the argv \n",
    "and run below command and pass the argument at last"
   ]
  },
  {
   "cell_type": "code",
   "execution_count": null,
   "id": "cd04a40f",
   "metadata": {},
   "outputs": [],
   "source": [
    "!python sysargvex.py Prakhar"
   ]
  }
 ],
 "metadata": {
  "kernelspec": {
   "display_name": "Python 3 (ipykernel)",
   "language": "python",
   "name": "python3"
  },
  "language_info": {
   "codemirror_mode": {
    "name": "ipython",
    "version": 3
   },
   "file_extension": ".py",
   "mimetype": "text/x-python",
   "name": "python",
   "nbconvert_exporter": "python",
   "pygments_lexer": "ipython3",
   "version": "3.9.7"
  }
 },
 "nbformat": 4,
 "nbformat_minor": 5
}
