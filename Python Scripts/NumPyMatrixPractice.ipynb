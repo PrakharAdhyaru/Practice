{
 "cells": [
  {
   "cell_type": "markdown",
   "id": "7ccef848",
   "metadata": {},
   "source": [
    "##### Problem 1\n",
    "Find the area of the triangle bounded by the points (−1,3),(0,−5), and (2,8)\n"
   ]
  },
  {
   "cell_type": "code",
   "execution_count": 2,
   "id": "708901be",
   "metadata": {},
   "outputs": [],
   "source": [
    "import numpy as np"
   ]
  },
  {
   "cell_type": "code",
   "execution_count": 82,
   "id": "b57dfc25",
   "metadata": {},
   "outputs": [
    {
     "name": "stdout",
     "output_type": "stream",
     "text": [
      "area of the triangle bounded by the points (−1,3),(0,−5), and (2,8) =  14.499999999999995\n"
     ]
    }
   ],
   "source": [
    "point_mat = np.array([[-1,3,1],[0,-5,1],[2,8,1]])\n",
    "det =  (np.linalg.det(point_mat))\n",
    "areaoftri = (1/2)*det\n",
    "print('area of the triangle bounded by the points (−1,3),(0,−5), and (2,8) = ',areaoftri)"
   ]
  },
  {
   "cell_type": "markdown",
   "id": "9ceae022",
   "metadata": {},
   "source": [
    "##### Problem 2\n",
    "The sum of three numbers is 26. </br>\n",
    "The third number is twice the second, </br>\n",
    "and is also 1 less than 3 times the first.</br>\n",
    "\n",
    "What are the three numbers?</br>\n",
    "\n",
    "let us create the equation\n",
    "x+y+z=26 </br>\n",
    "z=2y</br>\n",
    "z=3x-1</br>\n",
    " 1x  + 1y  +  1z = 26</br>\n",
    " 0x  - 2y  +  1z =  0</br>\n",
    "-3x  + 0y  +  1z = -1</br>"
   ]
  },
  {
   "cell_type": "code",
   "execution_count": 76,
   "id": "a4a1aa64",
   "metadata": {
    "scrolled": true
   },
   "outputs": [
    {
     "name": "stdout",
     "output_type": "stream",
     "text": [
      "x =  5\n",
      "y =  7\n",
      "z =  14\n"
     ]
    }
   ],
   "source": [
    "xyzcoeff_mat = np.array([[1,1,1],[0,-2,1],[-3,0,1]])\n",
    "const_mat = np.array([[26],[0],[-1]])\n",
    "inv_xyzcoeff_mat = (np.linalg.inv(xyzcoeff_mat))\n",
    "result_mat = np.matmul(inv_xyzcoeff_mat,const_mat).astype(int)\n",
    "\n",
    "print('x = ',result_mat.item(0))\n",
    "print('y = ',result_mat.item(1))\n",
    "print('z = ',result_mat.item(2))\n"
   ]
  },
  {
   "cell_type": "markdown",
   "id": "dbcd1a85",
   "metadata": {},
   "source": [
    "##### Problem 3\n",
    "Let P=[\n",
    "         4  −6\n",
    "\n",
    "        -2  8].\n",
    " \n",
    "\n",
    "(a) Find 2P.\n",
    "\n",
    " \n",
    "\n",
    "(b) Find P2.\n",
    "\n",
    " \n",
    "\n",
    "(c) Find Q when P×Q=[5\n",
    "                    0 ]\n",
    " "
   ]
  },
  {
   "cell_type": "code",
   "execution_count": 83,
   "id": "05bd553d",
   "metadata": {},
   "outputs": [
    {
     "name": "stdout",
     "output_type": "stream",
     "text": [
      "[[  8 -12]\n",
      " [ -4  16]]\n",
      "\n",
      "[[ 28 -72]\n",
      " [-24  76]]\n",
      "\n",
      "[[2. ]\n",
      " [0.5]]\n"
     ]
    }
   ],
   "source": [
    "p_mat = np.array([[4,-6],[-2,8]])\n",
    "p2 = 2*p_mat\n",
    "print(p2)\n",
    "print('')\n",
    "psquare = np.matmul(p_mat,p_mat)\n",
    "print(psquare)\n",
    "print('')\n",
    "\n",
    "q = np.matmul(np.linalg.inv(p_mat),np.array([[5],[0]]))\n",
    "print(q)"
   ]
  },
  {
   "cell_type": "markdown",
   "id": "a8a302bc",
   "metadata": {},
   "source": [
    "##### Problem 4\n",
    "A nut distributor wants to know the nutritional content of various mixtures of almonds, cashews, and pecans. Her supplier has provided the following nutrition information:\n",
    " \n",
    "\n",
    "                Almonds\tCashews\tPecans \n",
    "Protein (g/cup)\t26.2 \t21\t    10.1</br>\n",
    "Carbs (g/cup)\t40.2\t44.8\t14.3</br>\n",
    "Fat (g/cup)\t    71.9\t63.5\t82.8</br>\n",
    " \n",
    "\n",
    "Her first mixture, Mixture 1, consists of 6 cups of almonds, 3 cups of cashews, and 1 cup of pecans. Her second mixture, Mixture 2, consists of 3 cups of almonds, 6 cups of cashews, and 1 cup of pecans. Her third mixture, Mixture 3, consists of 3 cups of almonds, 1 cup of cashews, and 6 cups of pecans.\n",
    "                Mixture1  Mixture2  Mixture3</br>\n",
    " Almonds(cup)   6         3        3</br>\n",
    " Cashews(cup)   3         6        1</br>\n",
    " Pecans(cup)    1         1        6</br>\n",
    " \n",
    "\n",
    "Determine the amount of protein, carbs, and fats in a 1 cup serving of each of the mixtures."
   ]
  },
  {
   "cell_type": "code",
   "execution_count": 80,
   "id": "503b309e",
   "metadata": {},
   "outputs": [
    {
     "name": "stdout",
     "output_type": "stream",
     "text": [
      "[[23.03 21.47 16.02]\n",
      " [38.99 40.37 25.12]\n",
      " [70.47 67.95 77.6 ]]\n",
      "\n",
      "Protien(gms) per cup in mix1 =  23.029999999999998\n",
      "Protien(gms) per cup in mix2 =  21.47\n",
      "Protien(gms) per cup in mix3 =  16.02\n",
      "\n",
      "Cashew(gms) per cup in mix1 =  38.99\n",
      "Cashew(gms) per cup in mix2 =  40.37\n",
      "Cashew(gms) per cup in mix3 =  25.12\n",
      "\n",
      "Pecans(gms) per cup in mix1 =  70.47\n",
      "Pecans(gms) per cup in mix2 =  67.95\n",
      "Pecans(gms) per cup in mix3 =  77.6\n"
     ]
    }
   ],
   "source": [
    "nutritional_mat =  np.array([[26.2,21,10.1],[40.2,44.8,14.3],[71.9,63.5,82.8]])\n",
    "mixture_mat = np.array([[6,3,3],[3,6,1],[1,1,6]])\n",
    "total_nut_mix_per_cup = np.matmul(nutritional_mat,mixture_mat)/10\n",
    "print(total_nut_mix_per_cup)\n",
    "print('')\n",
    "print('Protien(gms) per cup in mix1 = ',total_nut_mix_per_cup.item(0))\n",
    "print('Protien(gms) per cup in mix2 = ',total_nut_mix_per_cup.item(1))\n",
    "print('Protien(gms) per cup in mix3 = ',total_nut_mix_per_cup.item(2))\n",
    "print('')\n",
    "print('Cashew(gms) per cup in mix1 = ',total_nut_mix_per_cup.item(3))\n",
    "print('Cashew(gms) per cup in mix2 = ',total_nut_mix_per_cup.item(4))\n",
    "print('Cashew(gms) per cup in mix3 = ',total_nut_mix_per_cup.item(5))\n",
    "print('')\n",
    "print('Pecans(gms) per cup in mix1 = ',total_nut_mix_per_cup.item(6))\n",
    "print('Pecans(gms) per cup in mix2 = ',total_nut_mix_per_cup.item(7))\n",
    "print('Pecans(gms) per cup in mix3 = ',total_nut_mix_per_cup.item(8))\n",
    "\n"
   ]
  },
  {
   "cell_type": "markdown",
   "id": "11a213cb",
   "metadata": {},
   "source": [
    "## Problem 5\n",
    "Several years ago, an outbreak of Chicken Pox hit a local public schools. Approximately 15% of the male and female juniors and 25% of the male and female seniors were healthy, 35% of the male and female juniors and 30% of the male and female seniors were sick, and 50% of the male and female juniors and 45% of the male and female seniors were carriers of Chicken Pox. </br>\n",
    "\n",
    " \n",
    "\n",
    "There were 100 male juniors, 80 male seniors, 120 female juniors, and 100 female seniors.</br>\n",
    "\n",
    " \n",
    "\n",
    "Using two matrices and one matrix equation, find out how many males and how many females (don’t need to divide by class) were healthy, sick, and carriers."
   ]
  },
  {
   "cell_type": "code",
   "execution_count": 88,
   "id": "32afc136",
   "metadata": {},
   "outputs": [
    {
     "name": "stdout",
     "output_type": "stream",
     "text": [
      "[[ 35  59  86]\n",
      " [ 43  72 105]]\n",
      "\n",
      "Healthy Male =  35\n",
      "Sick Male =  59\n",
      "Carriers Male =  86\n",
      "\n",
      "Healthy Female =  43\n",
      "Sick Female =  72\n",
      "Carriers Female =  105\n"
     ]
    }
   ],
   "source": [
    "jun_sr_mat = np.array([[100,80],[120,100]])\n",
    "healthy_sick_carriers_mat = np.array([[0.15,0.35,0.5],[0.25,0.30,0.45]])\n",
    "\n",
    "male_female_healthy_sick_carriers_mat = np.matmul(jun_sr_mat,healthy_sick_carriers_mat ).astype(int)\n",
    "\n",
    "print(male_female_healthy_sick_carriers_mat)\n",
    "print('')\n",
    "print('Healthy Male = ',male_female_healthy_sick_carriers_mat.item(0))\n",
    "print('Sick Male = ',male_female_healthy_sick_carriers_mat.item(1))\n",
    "print('Carriers Male = ',male_female_healthy_sick_carriers_mat.item(2))\n",
    "print('')\n",
    "print('Healthy Female = ',male_female_healthy_sick_carriers_mat.item(3))\n",
    "print('Sick Female = ',male_female_healthy_sick_carriers_mat.item(4))\n",
    "print('Carriers Female = ',male_female_healthy_sick_carriers_mat.item(5))\n"
   ]
  },
  {
   "attachments": {
    "image.png": {
     "image/png": "[encoded data removed]"
    }
   },
   "cell_type": "markdown",
   "id": "a392ba03",
   "metadata": {},
   "source": [
    "## Problem 6\n",
    "The first table below show the points awarded by judges at a state fair for a crafts contest for Brielle, Brynn, and Briana. The second table shows the multiplier used for the degree of difficulty for each of the pieces the girls created. </br>\n",
    "\n",
    "![image.png](attachment:image.png)</br>\n",
    "Find the total score for each of the girls in this contest."
   ]
  },
  {
   "cell_type": "code",
   "execution_count": 94,
   "id": "2c7c71c7",
   "metadata": {},
   "outputs": [
    {
     "name": "stdout",
     "output_type": "stream",
     "text": [
      "Brielle_tot_score 86.8\n",
      "\n",
      "Brynn_tot_score   79.2\n",
      "\n",
      "Briana_tot_score  110.0\n"
     ]
    }
   ],
   "source": [
    "Brielle_judge_mat = np.array([[16.4,19,17.5]])\n",
    "Brynn_judge_mat = np.array([[12.4,13,16]])\n",
    "Briana_judge_mat = np.array([[15,20,17.5]])\n",
    "\n",
    "Brielle_degree_of_difficulty = np.array([[2],[1],[2]])\n",
    "Brynn_degree_of_difficulty = np.array([[3],[2],[1]])\n",
    "Briana_degree_of_difficulty = np.array([[1],[3],[2]])\n",
    "\n",
    "Brielle_tot_score = np.matmul(Brielle_judge_mat,Brielle_degree_of_difficulty)\n",
    "Brynn_tot_score  = np.matmul(Brynn_judge_mat,Brynn_degree_of_difficulty)\n",
    "Briana_tot_score = np.matmul(Briana_judge_mat,Briana_degree_of_difficulty)\n",
    "\n",
    "print('Brielle_tot_score',Brielle_tot_score.item(0))\n",
    "print('')\n",
    "print('Brynn_tot_score  ',Brynn_tot_score.item(0))\n",
    "print('')\n",
    "print('Briana_tot_score ',Briana_tot_score.item(0))\n",
    "\n"
   ]
  }
 ],
 "metadata": {
  "kernelspec": {
   "display_name": "Python 3 (ipykernel)",
   "language": "python",
   "name": "python3"
  },
  "language_info": {
   "codemirror_mode": {
    "name": "ipython",
    "version": 3
   },
   "file_extension": ".py",
   "mimetype": "text/x-python",
   "name": "python",
   "nbconvert_exporter": "python",
   "pygments_lexer": "ipython3",
   "version": "3.9.7"
  }
 },
 "nbformat": 4,
 "nbformat_minor": 5
}
