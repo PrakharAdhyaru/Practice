{
 "cells": [
  {
   "cell_type": "code",
   "execution_count": 5,
   "id": "c8ccdaa5",
   "metadata": {},
   "outputs": [],
   "source": [
    "import pandas as pd"
   ]
  },
  {
   "cell_type": "code",
   "execution_count": 8,
   "id": "5df7df89",
   "metadata": {},
   "outputs": [
    {
     "name": "stdout",
     "output_type": "stream",
     "text": [
      "    cars  passings\n",
      "0    BMW         3\n",
      "1  Volvo         7\n",
      "2   Ford         2\n",
      "1.3.4\n"
     ]
    }
   ],
   "source": [
    "mydataset = {\n",
    "  'cars': [\"BMW\", \"Volvo\", \"Ford\"],\n",
    "  'passings': [3, 7, 2]\n",
    "}\n",
    "\n",
    "myvar = pd.DataFrame(mydataset)\n",
    "\n",
    "print(myvar)\n",
    "\n",
    "print(pd.__version__)"
   ]
  },
  {
   "cell_type": "markdown",
   "id": "9c63ba49",
   "metadata": {},
   "source": [
    "## What is a Series?\n",
    "A Pandas Series is like a column in a table.</br>\n",
    "\n",
    "It is a one-dimensional array holding data of any type."
   ]
  },
  {
   "cell_type": "code",
   "execution_count": 21,
   "id": "1587af8a",
   "metadata": {},
   "outputs": [
    {
     "name": "stdout",
     "output_type": "stream",
     "text": [
      "0    1\n",
      "1    7\n",
      "2    2\n",
      "dtype: int8\n",
      "\n",
      "mySeries[0] 1  mySeries[1] 7  mySeries[2] 2\n",
      "x    1\n",
      "y    7\n",
      "z    2\n",
      "dtype: int8\n",
      "myLabelIndx[x] 1  myLabelIndx[y] 7  myLabelIndx[z] 2\n"
     ]
    }
   ],
   "source": [
    "a = [1, 7, 2]\n",
    "\n",
    "mySeries = pd.Series(a,dtype='int8')\n",
    "\n",
    "print(mySeries)\n",
    "print('')\n",
    "\n",
    "# Label\n",
    "print('mySeries[0]',mySeries[0] , ' mySeries[1]',mySeries[1] , ' mySeries[2]',mySeries[2])\n",
    "\n",
    "# index With the index argument, you can name your own labels.\n",
    "myLabelIndx = pd.Series(a, index = [\"x\", \"y\", \"z\"],dtype='int8')\n",
    "\n",
    "print(myLabelIndx)\n",
    "print('myLabelIndx[x]',myLabelIndx['x'] , ' myLabelIndx[y]',myLabelIndx['y'] , ' myLabelIndx[z]',myLabelIndx['z'])"
   ]
  },
  {
   "cell_type": "code",
   "execution_count": 24,
   "id": "9d5c52c2",
   "metadata": {},
   "outputs": [
    {
     "name": "stdout",
     "output_type": "stream",
     "text": [
      "day1    420\n",
      "day2    380\n",
      "day3    390\n",
      "dtype: int64\n",
      "\n",
      "day1    420\n",
      "day2    380\n",
      "dtype: int64\n"
     ]
    }
   ],
   "source": [
    "# Key-Value Series\n",
    "calories = {\"day1\": 420, \"day2\": 380, \"day3\": 390}\n",
    "\n",
    "mykeyval = pd.Series(calories)\n",
    "\n",
    "print(mykeyval)\n",
    "print('')\n",
    "\n",
    "mykeyval2 = pd.Series(calories, index = [\"day1\", \"day2\"])\n",
    "\n",
    "print(mykeyval2)"
   ]
  },
  {
   "cell_type": "markdown",
   "id": "c8e78de5",
   "metadata": {},
   "source": [
    "## DataFrames\n",
    "Data sets in Pandas are usually multi-dimensional tables, called DataFrames.</br>\n",
    "\n",
    "Series is like a column, a DataFrame is the whole table.</br>\n",
    "What is a DataFrame?</br>\n",
    "A Pandas DataFrame is a 2 dimensional data structure, like a 2 dimensional array, or a table with rows and columns.</br>\n",
    "Note: When using [], the result is a Pandas DataFrame."
   ]
  },
  {
   "cell_type": "code",
   "execution_count": 42,
   "id": "063d39b3",
   "metadata": {},
   "outputs": [
    {
     "name": "stdout",
     "output_type": "stream",
     "text": [
      "   calories  duration\n",
      "0       420        50\n",
      "1       380        40\n",
      "2       390        45\n",
      "\n",
      "calories    420\n",
      "duration     50\n",
      "Name: 0, dtype: int64\n",
      "---------------------------------------------------------------------------------------\n",
      "<bound method NDFrame.last_valid_index of    calories  duration\n",
      "0       420        50\n",
      "1       380        40\n",
      "2       390        45>\n",
      "   calories  duration\n",
      "0       420        50\n",
      "1       800        90\n",
      "2      1190       135\n",
      "---------------------------------------------------------------------------------------\n",
      "   calories  duration\n",
      "0       420        50\n",
      "1       380        40\n",
      "\n",
      "      calories  duration\n",
      "day1       420        50\n",
      "day2       380        40\n",
      "day3       390        45\n",
      "\n",
      "calories    380\n",
      "duration     40\n",
      "Name: day2, dtype: int64\n"
     ]
    }
   ],
   "source": [
    "data = {\n",
    "  \"calories\": [420, 380, 390],\n",
    "  \"duration\": [50, 40, 45]\n",
    "}\n",
    "\n",
    "mydataframe = pd.DataFrame(data)\n",
    "\n",
    "print(mydataframe)\n",
    "print('')\n",
    "#refer to the row index:\n",
    "print(mydataframe.loc[0])\n",
    "print('---------------------------------------------------------------------------------------')\n",
    "print(mydataframe.last_valid_index)\n",
    "print(mydataframe.cumsum())\n",
    "print('---------------------------------------------------------------------------------------')\n",
    "#use a list of indexes:\n",
    "print(mydataframe.loc[[0, 1]])\n",
    "\n",
    "print('')\n",
    "df = pd.DataFrame(data, index = [\"day1\", \"day2\", \"day3\"])\n",
    "print(df)\n",
    "print('')\n",
    "print(df.loc[\"day2\"])"
   ]
  },
  {
   "cell_type": "code",
   "execution_count": 43,
   "id": "dda260c1",
   "metadata": {},
   "outputs": [
    {
     "name": "stdout",
     "output_type": "stream",
     "text": [
      "      PolicyNumber   PolEffDate     PolExpDt    WprmAmt Coverages\n",
      "0           100001   1-Jan-2019   1-Jan-2023    3693.62      cov1\n",
      "1           100002   2-Jan-2019   2-Jan-2023    4000.63      cov2\n",
      "2           100003   3-Jan-2019   3-Jan-2023    4307.64      cov3\n",
      "3           100004   4-Jan-2019   4-Jan-2023    4614.65      cov4\n",
      "4           100005   5-Jan-2019   5-Jan-2023    4921.66      cov5\n",
      "...            ...          ...          ...        ...       ...\n",
      "1054        101055  20-Nov-2021  20-Nov-2025  327282.16   cov1055\n",
      "1055        101056  21-Nov-2021  21-Nov-2025  327589.17   cov1056\n",
      "1056        101057  22-Nov-2021  22-Nov-2025  327896.18   cov1057\n",
      "1057        101058  23-Nov-2021  23-Nov-2025  328203.19   cov1058\n",
      "1058        101059  24-Nov-2021  24-Nov-2025  328510.20   cov1059\n",
      "\n",
      "[1059 rows x 5 columns]\n"
     ]
    }
   ],
   "source": [
    "# read csv file\n",
    "dfcsvread = pd.read_csv('Book1.csv')\n",
    "\n",
    "print(dfcsvread) "
   ]
  }
 ],
 "metadata": {
  "kernelspec": {
   "display_name": "Python 3 (ipykernel)",
   "language": "python",
   "name": "python3"
  },
  "language_info": {
   "codemirror_mode": {
    "name": "ipython",
    "version": 3
   },
   "file_extension": ".py",
   "mimetype": "text/x-python",
   "name": "python",
   "nbconvert_exporter": "python",
   "pygments_lexer": "ipython3",
   "version": "3.9.7"
  }
 },
 "nbformat": 4,
 "nbformat_minor": 5
}
