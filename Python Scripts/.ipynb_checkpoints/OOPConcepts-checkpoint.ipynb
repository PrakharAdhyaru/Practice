{
 "cells": [
  {
   "cell_type": "code",
   "execution_count": null,
   "id": "e12674c7",
   "metadata": {},
   "outputs": [],
   "source": [
    "class My_data_class:\n",
    "    def init_some_val(self,val2):\n",
    "        self.first_var = 1.2\n",
    "        self.second_var = val2\n",
    "    def multiply_vals(self):\n",
    "        return self.first_var * self.second_var\n",
    "mydataobj = My_data_class()\n",
    "mydataobj.init_some_val(1.2)\n",
    "print(mydataobj.first_var)\n",
    "print(mydataobj.multiply_vals())"
   ]
  },
  {
   "cell_type": "code",
   "execution_count": null,
   "id": "238b530e",
   "metadata": {
    "scrolled": true
   },
   "outputs": [],
   "source": [
    "self.second_var"
   ]
  },
  {
   "cell_type": "code",
   "execution_count": null,
   "id": "f74c2959",
   "metadata": {},
   "outputs": [],
   "source": [
    "mydataobj.third_var = 222.36\n",
    "print(mydataobj.third_var)"
   ]
  },
  {
   "cell_type": "code",
   "execution_count": null,
   "id": "9ac3849e",
   "metadata": {
    "scrolled": true
   },
   "outputs": [],
   "source": [
    "you = My_data_class()\n",
    "you.init_some_val(3.2)\n",
    "you.third_var = 9.6\n",
    "print(you.third_var)"
   ]
  },
  {
   "cell_type": "code",
   "execution_count": 1,
   "id": "a3c5a14c",
   "metadata": {},
   "outputs": [],
   "source": [
    "class Pet:\n",
    "    def __init__(self,animal_type,name,age,weight_lbs,color):\n",
    "        self.animal = animal_type\n",
    "        self.name = name\n",
    "        self.age = age\n",
    "        self.weight_lbs = weight_lbs\n",
    "        self.color = color\n",
    "        self.weight_kgs = self.calc_weight_kgs()\n",
    "    \n",
    "    def calc_weight_kgs(self):\n",
    "        return 0.453592 * self.weight_lbs\n",
    "    \n",
    "    def describe_pet(self):\n",
    "        print('This pet is a ',self.color, ' color ' , self.animal)\n",
    "        print('This pet\\'s name is ',self.name, ' and it is  ' , self.age,' years old')\n",
    "        print('This pet weighs ', self.weight_lbs,' pounds which is ', round(self.weight_kgs,2),' kilograms' )\n",
    "        "
   ]
  },
  {
   "cell_type": "code",
   "execution_count": 4,
   "id": "15e90e62",
   "metadata": {},
   "outputs": [
    {
     "name": "stdout",
     "output_type": "stream",
     "text": [
      "This pet is a  orange  color  cat\n",
      "This pet's name is  Bilauw  and it is   3  years old\n",
      "This pet weighs  7.8  pounds which is  3.54  kilograms\n",
      "\n",
      "This pet is a  brown  color  dog\n",
      "This pet's name is  Moti  and it is   4  years old\n",
      "This pet weighs  11.8  pounds which is  5.35  kilograms\n"
     ]
    }
   ],
   "source": [
    "my_cat = Pet('cat','Bilauw',3,7.8,'orange')\n",
    "my_dog = Pet('dog','Moti',4,11.8,'brown')\n",
    "my_cat.describe_pet()\n",
    "print('')\n",
    "my_dog.describe_pet()"
   ]
  },
  {
   "cell_type": "code",
   "execution_count": 9,
   "id": "8b5b68e4",
   "metadata": {},
   "outputs": [
    {
     "name": "stdout",
     "output_type": "stream",
     "text": [
      "orange\n",
      "3\n",
      "brown\n",
      "4\n"
     ]
    }
   ],
   "source": [
    "print(my_cat.color)\n",
    "\n",
    "print(my_cat.age)\n",
    "print(my_dog.color)\n",
    "print(my_dog.age)"
   ]
  },
  {
   "cell_type": "code",
   "execution_count": 14,
   "id": "f0333c51",
   "metadata": {},
   "outputs": [
    {
     "name": "stdout",
     "output_type": "stream",
     "text": [
      "5\n",
      "3.5380176\n"
     ]
    }
   ],
   "source": [
    "my_cat.weight_lbs = 5\n",
    "print(my_cat.weight_lbs)\n",
    "print(my_cat.weight_kgs)"
   ]
  },
  {
   "cell_type": "code",
   "execution_count": 16,
   "id": "d4e58833",
   "metadata": {},
   "outputs": [
    {
     "name": "stdout",
     "output_type": "stream",
     "text": [
      "2.26796\n",
      "5.3523856\n",
      "3.5380176\n",
      "2.26796\n"
     ]
    }
   ],
   "source": [
    "print(my_cat.calc_weight_kgs())\n",
    "print(my_dog.calc_weight_kgs())\n",
    "print(my_cat.weight_kgs)\n",
    "my_cat.weight_kgs = my_cat.calc_weight_kgs()\n",
    "print(my_cat.weight_kgs)"
   ]
  },
  {
   "cell_type": "code",
   "execution_count": 17,
   "id": "0029583c",
   "metadata": {},
   "outputs": [
    {
     "name": "stdout",
     "output_type": "stream",
     "text": [
      "9 0 1\n"
     ]
    }
   ],
   "source": [
    "def least_difference(a, b, c):\n",
    "    diff1 = abs(a - b)\n",
    "    diff2 = abs(b - c)\n",
    "    diff3 = abs(a - c)\n",
    "    return min(diff1, diff2, diff3)\n",
    "\n",
    "print(\n",
    "    least_difference(1, 10, 100),\n",
    "    least_difference(1, 10, 10),\n",
    "    least_difference(5, 6, 7), # Python allows trailing commas in argument lists. How nice is that?\n",
    ")"
   ]
  },
  {
   "cell_type": "code",
   "execution_count": 20,
   "id": "10836c42",
   "metadata": {},
   "outputs": [
    {
     "name": "stdout",
     "output_type": "stream",
     "text": [
      "{'name': 2, 'var2': 16}\n"
     ]
    }
   ],
   "source": [
    "var1 = \"name\"\n",
    "my_dict = {var1:2,\"var2\":16}\n",
    "print(my_dict)"
   ]
  },
  {
   "cell_type": "code",
   "execution_count": 23,
   "id": "b74b4963",
   "metadata": {
    "scrolled": true
   },
   "outputs": [
    {
     "name": "stdout",
     "output_type": "stream",
     "text": [
      "1\n",
      "2\n",
      "3\n",
      "4\n",
      "5\n"
     ]
    }
   ],
   "source": [
    "array = [1,2,3,4,5]\n",
    "for i in array:\n",
    "    print(array[i-1])"
   ]
  },
  {
   "cell_type": "code",
   "execution_count": 30,
   "id": "2a694ccf",
   "metadata": {},
   "outputs": [
    {
     "name": "stdout",
     "output_type": "stream",
     "text": [
      "nt\n",
      "C:\\Users\\prakharadhyaru\\Documents\\Python Scripts\n"
     ]
    }
   ],
   "source": [
    "import os\n",
    "print(os.name)\n",
    "os.getcwd()\n",
    "print(os.getcwd())\n"
   ]
  },
  {
   "cell_type": "code",
   "execution_count": 33,
   "id": "e23e4fc1",
   "metadata": {},
   "outputs": [
    {
     "data": {
      "text/plain": [
       "['.ipynb_checkpoints',\n",
       " 'flowControltutorial.ipynb',\n",
       " 'OOPConcepts.ipynb',\n",
       " 'Practice_1.ipynb',\n",
       " 'Untitled.ipynb']"
      ]
     },
     "execution_count": 33,
     "metadata": {},
     "output_type": "execute_result"
    }
   ],
   "source": [
    "os.listdir('.')"
   ]
  },
  {
   "cell_type": "code",
   "execution_count": 36,
   "id": "05303ad2",
   "metadata": {},
   "outputs": [
    {
     "data": {
      "text/plain": [
       "['Book1.xlsx',\n",
       " 'cache',\n",
       " 'Custom Office Templates',\n",
       " 'CyberLink',\n",
       " 'desktop.ini',\n",
       " 'eknath.pdf',\n",
       " 'Embassy.docx',\n",
       " 'Embassy.pdf',\n",
       " 'FeedbackHub',\n",
       " 'GCPromissoryLetter.jpg',\n",
       " 'interwise',\n",
       " 'Lenovo',\n",
       " 'McAfee Vaults',\n",
       " 'Mr. PRAKHAR RAJNIKANT ADHYARU experience letter .pdf',\n",
       " 'My Data Sources',\n",
       " 'My Music',\n",
       " 'My Pictures',\n",
       " 'My Retainer      By.docx',\n",
       " 'My Videos',\n",
       " 'OneNote Notebooks',\n",
       " 'Outlook Files',\n",
       " 'PERM_CASE_NO_FILING.pdf',\n",
       " 'Python Scripts',\n",
       " 'surmayee solar system.rtf',\n",
       " 'Surmayee_Retainer_Broke_Story.rtf',\n",
       " 'tukaram.pdf',\n",
       " 'universe.jpg',\n",
       " 'USA ITR 2016',\n",
       " 'USAITR',\n",
       " 'USPAYCHECK']"
      ]
     },
     "execution_count": 36,
     "metadata": {},
     "output_type": "execute_result"
    }
   ],
   "source": [
    "os.listdir('C:\\\\Users\\\\prakharadhyaru\\\\Documents')"
   ]
  },
  {
   "cell_type": "code",
   "execution_count": 38,
   "id": "08f3c309",
   "metadata": {},
   "outputs": [
    {
     "ename": "FileExistsError",
     "evalue": "[WinError 183] Cannot create a file when that file already exists: 'C:\\\\Users\\\\prakharadhyaru\\\\Documents\\\\Python Scripts\\\\NewDir'",
     "output_type": "error",
     "traceback": [
      "\u001b[1;31m---------------------------------------------------------------------------\u001b[0m",
      "\u001b[1;31mFileExistsError\u001b[0m                           Traceback (most recent call last)",
      "\u001b[1;32mC:\\Users\\PRAKHA~1\\AppData\\Local\\Temp/ipykernel_18928/1151803684.py\u001b[0m in \u001b[0;36m<module>\u001b[1;34m\u001b[0m\n\u001b[1;32m----> 1\u001b[1;33m \u001b[0mos\u001b[0m\u001b[1;33m.\u001b[0m\u001b[0mmkdir\u001b[0m\u001b[1;33m(\u001b[0m\u001b[1;34m'C:\\\\Users\\\\prakharadhyaru\\\\Documents\\\\Python Scripts\\\\NewDir'\u001b[0m\u001b[1;33m)\u001b[0m\u001b[1;33m\u001b[0m\u001b[1;33m\u001b[0m\u001b[0m\n\u001b[0m",
      "\u001b[1;31mFileExistsError\u001b[0m: [WinError 183] Cannot create a file when that file already exists: 'C:\\\\Users\\\\prakharadhyaru\\\\Documents\\\\Python Scripts\\\\NewDir'"
     ]
    }
   ],
   "source": [
    "os.mkdir('C:\\\\Users\\\\prakharadhyaru\\\\Documents\\\\Python Scripts\\\\NewDir')"
   ]
  },
  {
   "cell_type": "code",
   "execution_count": 40,
   "id": "830677d3",
   "metadata": {},
   "outputs": [
    {
     "ename": "FileNotFoundError",
     "evalue": "[WinError 2] The system cannot find the file specified: 'NewDir' -> 'renameNewDir'",
     "output_type": "error",
     "traceback": [
      "\u001b[1;31m---------------------------------------------------------------------------\u001b[0m",
      "\u001b[1;31mFileNotFoundError\u001b[0m                         Traceback (most recent call last)",
      "\u001b[1;32mC:\\Users\\PRAKHA~1\\AppData\\Local\\Temp/ipykernel_18928/3102519107.py\u001b[0m in \u001b[0;36m<module>\u001b[1;34m\u001b[0m\n\u001b[1;32m----> 1\u001b[1;33m \u001b[0mos\u001b[0m\u001b[1;33m.\u001b[0m\u001b[0mrename\u001b[0m\u001b[1;33m(\u001b[0m\u001b[1;34m'NewDir'\u001b[0m\u001b[1;33m,\u001b[0m\u001b[1;34m'renameNewDir'\u001b[0m\u001b[1;33m)\u001b[0m\u001b[1;33m\u001b[0m\u001b[1;33m\u001b[0m\u001b[0m\n\u001b[0m",
      "\u001b[1;31mFileNotFoundError\u001b[0m: [WinError 2] The system cannot find the file specified: 'NewDir' -> 'renameNewDir'"
     ]
    }
   ],
   "source": [
    "os.rename('NewDir','renameNewDir')"
   ]
  },
  {
   "cell_type": "code",
   "execution_count": 43,
   "id": "af7e75ca",
   "metadata": {},
   "outputs": [
    {
     "name": "stdout",
     "output_type": "stream",
     "text": [
      "Hello\n",
      "World!!\n"
     ]
    }
   ],
   "source": [
    "file = open('renameNewDir\\\\NewText.txt','w')\n",
    "file.write(\"Hello\\n\")\n",
    "file.write(\"World!!\")\n",
    "file.close()\n",
    "\n",
    "fileRead = open('renameNewDir\\\\NewText.txt','r')\n",
    "\n",
    "print(fileRead.read())"
   ]
  },
  {
   "cell_type": "code",
   "execution_count": 49,
   "id": "63a9cafa",
   "metadata": {},
   "outputs": [
    {
     "name": "stdout",
     "output_type": "stream",
     "text": [
      "Hello there -f\n"
     ]
    }
   ],
   "source": [
    "# import modules used here -- sys is a very standard one\n",
    "import sys\n",
    "\n",
    "# Gather our code in a main() function\n",
    "def main():\n",
    "    print ('Hello there', sys.argv[1])\n",
    "    # Command line args are in sys.argv[1], sys.argv[2] ...\n",
    "    # sys.argv[0] is the script name itself and can be ignored\n",
    "\n",
    "# Standard boilerplate to call the main() function to begin\n",
    "# the program.\n",
    "if __name__ == '__main__':\n",
    "    main()"
   ]
  },
  {
   "cell_type": "markdown",
   "id": "59028c59",
   "metadata": {},
   "source": [
    "## How to run python by passing argument argv\n",
    "save the program which accepts the argv \n",
    "and run below command and pass the argument at last"
   ]
  },
  {
   "cell_type": "code",
   "execution_count": null,
   "id": "de83d672",
   "metadata": {},
   "outputs": [],
   "source": [
    "!python sysargvex.py Prakhar"
   ]
  }
 ],
 "metadata": {
  "kernelspec": {
   "display_name": "Python 3 (ipykernel)",
   "language": "python",
   "name": "python3"
  },
  "language_info": {
   "codemirror_mode": {
    "name": "ipython",
    "version": 3
   },
   "file_extension": ".py",
   "mimetype": "text/x-python",
   "name": "python",
   "nbconvert_exporter": "python",
   "pygments_lexer": "ipython3",
   "version": "3.9.7"
  }
 },
 "nbformat": 4,
 "nbformat_minor": 5
}
