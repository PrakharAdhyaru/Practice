{
 "cells": [
  {
   "cell_type": "code",
   "execution_count": 95,
   "id": "b680ce82",
   "metadata": {},
   "outputs": [],
   "source": [
    "import numpy as np"
   ]
  },
  {
   "cell_type": "code",
   "execution_count": 15,
   "id": "38e7373d",
   "metadata": {},
   "outputs": [
    {
     "name": "stdout",
     "output_type": "stream",
     "text": [
      "-1.0\n",
      "0.5000000000000001\n",
      "1.1\n",
      "5.2\n",
      "[1.57079633 1.04719755 0.78539816 0.62831853]\n",
      "[1.         0.8660254  0.70710678 0.58778525]\n"
     ]
    }
   ],
   "source": [
    "print(np.cos(np.pi))\n",
    "print(np.cos(np.pi/3))\n",
    "print(np.sqrt(1.21))\n",
    "print(np.log(np.exp(5.2)))\n",
    "arr = np.array([np.pi/2, np.pi/3, np.pi/4, np.pi/5])\n",
    "print(arr)\n",
    "x = np.sin(arr)\n",
    "print(x)"
   ]
  },
  {
   "cell_type": "code",
   "execution_count": 19,
   "id": "9f8036f2",
   "metadata": {},
   "outputs": [
    {
     "name": "stdout",
     "output_type": "stream",
     "text": [
      "[1.57079633 3.14159265 4.71238898 6.28318531]\n",
      "[90. 60. 45. 36.]\n"
     ]
    }
   ],
   "source": [
    "# Convert degrees to Radians\n",
    "arr = np.array([90, 180, 270, 360])\n",
    "\n",
    "x = np.deg2rad(arr)\n",
    "print(x)\n",
    "# Convert  Radians to degrees\n",
    "arr_radians = np.array([np.pi/2, np.pi/3, np.pi/4, np.pi/5])\n",
    "arr_rad_to_degree = np.rad2deg(arr_radians)\n",
    "print(arr_rad_to_degree)"
   ]
  },
  {
   "cell_type": "code",
   "execution_count": 24,
   "id": "6ce8183b",
   "metadata": {},
   "outputs": [
    {
     "name": "stdout",
     "output_type": "stream",
     "text": [
      "angle_x_rad  1.5707963267948966\n",
      "angle_x_degree  90.0\n",
      "arr_val_sin_angle [ 1.57079633 -1.57079633  0.10016742]\n"
     ]
    }
   ],
   "source": [
    "# findins Angles\n",
    "# NumPy provides ufuncs arcsin(), arccos() and arctan() \n",
    "# that produce radian values for corresponding sin, cos and tan values given.\n",
    "\n",
    "angle_x_rad = np.arcsin(1.0)\n",
    "\n",
    "print('angle_x_rad ',angle_x_rad)\n",
    "\n",
    "print('angle_x_degree ',np.rad2deg(angle_x_rad))\n",
    "\n",
    "arr_val = np.array([1, -1, 0.1])\n",
    "\n",
    "arr_val_sin_angle = np.arcsin(arr_val)\n",
    "\n",
    "print('arr_val_sin_angle',arr_val_sin_angle)"
   ]
  },
  {
   "cell_type": "code",
   "execution_count": 27,
   "id": "30aaaf90",
   "metadata": {},
   "outputs": [
    {
     "name": "stdout",
     "output_type": "stream",
     "text": [
      "6.021627686929839\n"
     ]
    }
   ],
   "source": [
    "# calculate Hypotenues\n",
    "\n",
    "\n",
    "base = 3.5\n",
    "perp = 4.9\n",
    "\n",
    "hypo_x = np.hypot(base, perp)\n",
    "\n",
    "print(hypo_x)"
   ]
  },
  {
   "cell_type": "code",
   "execution_count": 32,
   "id": "121c76b0",
   "metadata": {},
   "outputs": [
    {
     "name": "stdout",
     "output_type": "stream",
     "text": [
      "[1. 2. 3. 4. 5. 6. 7.]\n"
     ]
    }
   ],
   "source": [
    "# unique of an array (Set function)\n",
    "arr_set = np.array([1, 1, 1, 2, 3, 4, 5, 5,5.0, 6,6.0, 7,7.0])\n",
    "\n",
    "uniq_arr = np.unique(arr_set)\n",
    "\n",
    "print(uniq_arr)"
   ]
  },
  {
   "cell_type": "code",
   "execution_count": 36,
   "id": "57bd937e",
   "metadata": {},
   "outputs": [
    {
     "name": "stdout",
     "output_type": "stream",
     "text": [
      "[1. 2. 3. 4. 5. 6.]\n"
     ]
    }
   ],
   "source": [
    "# union of two arrays\n",
    "arr1 = np.array([1, 2, 3, 4])\n",
    "arr2 = np.array([3, 4, 5, 6,1.0])\n",
    "\n",
    "newarr = np.union1d(arr1, arr2)\n",
    "\n",
    "print(newarr)"
   ]
  },
  {
   "cell_type": "code",
   "execution_count": 39,
   "id": "0699376a",
   "metadata": {},
   "outputs": [
    {
     "name": "stdout",
     "output_type": "stream",
     "text": [
      "[3 4]\n"
     ]
    }
   ],
   "source": [
    "# intersection of two array\n",
    "arr11 = np.array([1, 2, 3, 4])\n",
    "arr12 = np.array([3, 4, 5, 6])\n",
    "\n",
    "newarr1 = np.intersect1d(arr11, arr12, assume_unique=True)\n",
    "\n",
    "print(newarr1)"
   ]
  },
  {
   "cell_type": "code",
   "execution_count": 46,
   "id": "f194b5b6",
   "metadata": {},
   "outputs": [
    {
     "name": "stdout",
     "output_type": "stream",
     "text": [
      "[1 3 5 7]\n",
      "int32\n"
     ]
    }
   ],
   "source": [
    "arr3 = np.array([1,2,3,4,5,6,7])\n",
    "print(arr3[::2])\n",
    "\n",
    "#print(arr3[1:3:5:7])\n",
    "#rint(arr3(0:step=2))\n",
    "#print(arr[::2])\n",
    "print(arr3.dtype)"
   ]
  },
  {
   "cell_type": "code",
   "execution_count": 47,
   "id": "5c2adb83",
   "metadata": {},
   "outputs": [
    {
     "name": "stdout",
     "output_type": "stream",
     "text": [
      "(2, 4)\n"
     ]
    }
   ],
   "source": [
    "arr4 = np.array([[1, 2, 3, 4], [5, 6, 7, 8]])\n",
    "\n",
    "print(arr4.shape)"
   ]
  },
  {
   "cell_type": "code",
   "execution_count": 50,
   "id": "9364b757",
   "metadata": {},
   "outputs": [
    {
     "name": "stdout",
     "output_type": "stream",
     "text": [
      "[42  2  3  4  5]\n",
      "[42  2  3  4  5]\n",
      "[31  2  3  4  5]\n",
      "[31  2  3  4  5]\n"
     ]
    }
   ],
   "source": [
    "arr5 = np.array([1, 2, 3, 4, 5])\n",
    "x5 = arr5.view()\n",
    "arr5[0] = 42\n",
    "print(arr5)\n",
    "print(x5)\n",
    "\n",
    "x5[0] = 31\n",
    "\n",
    "print(arr5)\n",
    "print(x5)"
   ]
  },
  {
   "cell_type": "code",
   "execution_count": 52,
   "id": "f0cd01f1",
   "metadata": {},
   "outputs": [
    {
     "name": "stdout",
     "output_type": "stream",
     "text": [
      "[[[[[1 2 3 4]]]]]\n",
      "shape of array : (1, 1, 1, 1, 4)\n"
     ]
    }
   ],
   "source": [
    "arr6 = np.array([1, 2, 3, 4], ndmin=5)\n",
    "\n",
    "print(arr6)\n",
    "print('shape of array :', arr6.shape)"
   ]
  },
  {
   "cell_type": "code",
   "execution_count": 59,
   "id": "d876f55a",
   "metadata": {},
   "outputs": [
    {
     "name": "stdout",
     "output_type": "stream",
     "text": [
      "[[ 1  2  3  4  5  6]\n",
      " [ 7  8  9 10 11 12]]\n",
      "[[[ 1  2]\n",
      "  [ 3  4]\n",
      "  [ 5  6]]\n",
      "\n",
      " [[ 7  8]\n",
      "  [ 9 10]\n",
      "  [11 12]]]\n",
      "[1 2 3 4 5 6 7 8]\n",
      "[[[1 2]\n",
      "  [3 4]]\n",
      "\n",
      " [[5 6]\n",
      "  [7 8]]]\n"
     ]
    }
   ],
   "source": [
    "\n",
    "arr71 = np.array([1, 2, 3, 4, 5, 6, 7, 8, 9, 10, 11, 12])\n",
    "\n",
    "newarr71 = arr71.reshape(2, 6)\n",
    "\n",
    "print(newarr71)\n",
    "\n",
    "arr7 = np.array([1, 2, 3, 4, 5, 6, 7, 8, 9, 10, 11, 12])\n",
    "\n",
    "newarr7 = arr7.reshape(2, 3, 2)\n",
    "\n",
    "print(newarr7)\n",
    "\n",
    "arr8 = np.array([1, 2, 3, 4, 5, 6, 7, 8])\n",
    "\n",
    "print(arr8.reshape(2, 4).base)\n",
    "\n",
    "arr9 = np.array([1, 2, 3, 4, 5, 6, 7, 8])\n",
    "\n",
    "newarr9 = arr9.reshape(2, 2, -1)\n",
    "\n",
    "print(newarr9)"
   ]
  },
  {
   "cell_type": "code",
   "execution_count": 64,
   "id": "e5dc9b7c",
   "metadata": {},
   "outputs": [
    {
     "name": "stdout",
     "output_type": "stream",
     "text": [
      "[1 2 3]\n",
      "[4 5 6]\n",
      "\n",
      "1\n",
      "2\n",
      "3\n",
      "4\n",
      "5\n",
      "6\n"
     ]
    }
   ],
   "source": [
    "arr10 = np.array([[1, 2, 3], [4, 5, 6]])\n",
    "\n",
    "for x in arr10:\n",
    "    print(x)\n",
    "    \n",
    "arr11 = np.array([[1, 2, 3], [4, 5, 6]])\n",
    "print('')\n",
    "for x in arr11:\n",
    "    for y in x:\n",
    "        print(y)"
   ]
  },
  {
   "cell_type": "code",
   "execution_count": 76,
   "id": "24372a96",
   "metadata": {},
   "outputs": [
    {
     "name": "stdout",
     "output_type": "stream",
     "text": [
      "[1 2 3 4 5 6]\n",
      "[[1 2 5 6]\n",
      " [3 4 7 8]]\n",
      "(2, 4)\n"
     ]
    }
   ],
   "source": [
    "arr11 = np.array([1, 2, 3])\n",
    "\n",
    "arr12 = np.array([4, 5, 6])\n",
    "\n",
    "arrx = np.concatenate((arr11, arr12))\n",
    "\n",
    "print(arrx)\n",
    "\n",
    "arr13 = np.array([[1, 2], [3, 4]])\n",
    "\n",
    "arr14 = np.array([[5, 6], [7, 8]])\n",
    "\n",
    "arrx1= np.concatenate((arr13, arr14), axis=1)\n",
    "\n",
    "print(arrx1)\n",
    "print(arrx1.shape)"
   ]
  },
  {
   "cell_type": "code",
   "execution_count": 89,
   "id": "c5de4ab5",
   "metadata": {},
   "outputs": [
    {
     "name": "stdout",
     "output_type": "stream",
     "text": [
      "[[1 2 3]\n",
      " [4 5 6]]\n",
      "(2, 3)\n",
      "\n",
      "[[1 4]\n",
      " [2 5]\n",
      " [3 6]]\n",
      "(3, 2)\n",
      "\n",
      "horizontal arrhstack\n",
      "[1 2 3 4 5 6]\n",
      "(6,)\n",
      "\n",
      "vertical arrvstack\n",
      "[[1 2 3]\n",
      " [4 5 6]]\n",
      "(2, 3)\n",
      "\n",
      "depth stack arrdstack\n",
      "[[[1 4]\n",
      "  [2 5]\n",
      "  [3 6]]]\n",
      "(1, 3, 2)\n"
     ]
    }
   ],
   "source": [
    "arr15 = np.array([1, 2, 3])\n",
    "\n",
    "arr16 = np.array([4, 5, 6])\n",
    "\n",
    "arrstack = np.stack((arr15, arr16), axis=0)\n",
    "\n",
    "print(arrstack)\n",
    "print(arrstack.shape)\n",
    "print('')\n",
    "\n",
    "arrstackax1 = np.stack((arr15, arr16), axis=1)\n",
    "\n",
    "print(arrstackax1)\n",
    "print(arrstackax1.shape)\n",
    "print('')\n",
    "\n",
    "\n",
    "arrhstack = np.hstack((arr15, arr16))\n",
    "print('horizontal arrhstack')\n",
    "print(arrhstack)\n",
    "print(arrhstack.shape)\n",
    "print('')\n",
    "arrvstack = np.vstack((arr15, arr16))\n",
    "print('vertical arrvstack')\n",
    "print(arrvstack)\n",
    "print(arrvstack.shape)\n",
    "print('')\n",
    "\n",
    "\n",
    "\n",
    "arrdstack = np.dstack((arr15, arr16))\n",
    "print('depth stack arrdstack')\n",
    "print(arrdstack)\n",
    "print(arrdstack.shape)"
   ]
  },
  {
   "cell_type": "markdown",
   "id": "e58883c1",
   "metadata": {},
   "source": [
    "## Different ways to get Arrays using NumPy\n",
    "np.array() </br>\n",
    "np.arange() </br>\n",
    "np.linspace() </br>\n",
    "np.zeros() </br>\n",
    "np.ones() </br>\n",
    "np.eye() </br>\n",
    "np.random() </br>"
   ]
  },
  {
   "cell_type": "code",
   "execution_count": 4,
   "id": "a3138310",
   "metadata": {},
   "outputs": [
    {
     "name": "stdout",
     "output_type": "stream",
     "text": [
      "[1 2 3]\n",
      "[[1 2 1]\n",
      " [4 5 9]\n",
      " [2 8 9]]\n",
      "[[1 4 2]\n",
      " [2 5 8]\n",
      " [1 9 9]]\n"
     ]
    }
   ],
   "source": [
    "vec = np.array([1,2,3])\n",
    "print(vec)\n",
    "\n",
    "mat = np.array([[1,2,1],[4,5,9],[2,8,9]])\n",
    "\n",
    "print(mat)\n",
    "\n",
    "print(mat.T)\n",
    "\n"
   ]
  },
  {
   "cell_type": "code",
   "execution_count": 5,
   "id": "beb8397a",
   "metadata": {},
   "outputs": [
    {
     "name": "stdout",
     "output_type": "stream",
     "text": [
      "[ 0  1  2  3  4  5  6  7  8  9 10 11 12 13 14]\n",
      "\n",
      "[ 3  9 15]\n"
     ]
    }
   ],
   "source": [
    "# mentioned as a steps\n",
    "vec2 = np.arange(0,15)\n",
    "print(vec2)\n",
    "print('')\n",
    "vec3 = np.arange(3,21,6)\n",
    "print(vec3)"
   ]
  },
  {
   "cell_type": "code",
   "execution_count": 12,
   "id": "b3d8f545",
   "metadata": {},
   "outputs": [
    {
     "name": "stdout",
     "output_type": "stream",
     "text": [
      "[ 0  1  2  3  4  5  6  7  8  9 10 11 12 13 14]\n",
      "\n",
      "[[ 0  1  2  3  4]\n",
      " [ 5  6  7  8  9]\n",
      " [10 11 12 13 14]]\n",
      "---------------------------------------------------------------------------------------------------\n",
      "[  1.           8.07142857  15.14285714  22.21428571  29.28571429\n",
      "  36.35714286  43.42857143  50.5         57.57142857  64.64285714\n",
      "  71.71428571  78.78571429  85.85714286  92.92857143 100.        ]\n",
      "\n",
      "[[  1.           8.07142857  15.14285714]\n",
      " [ 22.21428571  29.28571429  36.35714286]\n",
      " [ 43.42857143  50.5         57.57142857]\n",
      " [ 64.64285714  71.71428571  78.78571429]\n",
      " [ 85.85714286  92.92857143 100.        ]]\n"
     ]
    }
   ],
   "source": [
    "sing_dim_arr =  np.arange(0,15)\n",
    "multi_dim_arr_mat = sing_dim_arr.reshape(3,5)\n",
    "print(sing_dim_arr)\n",
    "print('')\n",
    "print(multi_dim_arr_mat)\n",
    "print('---------------------------------------------------------------------------------------------------')\n",
    "\n",
    "sing_dim_linspace = np.linspace(1,100,num=15)\n",
    "sing_dim_linspace_mat = sing_dim_linspace.reshape(5,3)\n",
    "print(sing_dim_linspace)\n",
    "print('')\n",
    "\n",
    "print(sing_dim_linspace_mat)\n"
   ]
  },
  {
   "cell_type": "code",
   "execution_count": 33,
   "id": "6a1c9208",
   "metadata": {},
   "outputs": [
    {
     "name": "stdout",
     "output_type": "stream",
     "text": [
      "(array([  1.  ,  25.75,  50.5 ,  75.25, 100.  ]), 24.75)\n",
      "(array([  0.,  25.,  50.,  75., 100.]), 25.0)\n",
      "(array([  0,   7,  14,  21,  28,  35,  42,  50,  57,  64,  71,  78,  85,\n",
      "        92, 100]), 7.142857142857143)\n",
      "[[  0.           9.09090909  18.18181818  27.27272727  36.36363636\n",
      "   45.45454545]\n",
      " [ 54.54545455  63.63636364  72.72727273  81.81818182  90.90909091\n",
      "  100.        ]]\n"
     ]
    }
   ],
   "source": [
    "# linear space\n",
    "# numpy.linspace(start, stop, num=50, endpoint=True, retstep=False, dtype=None, axis=0)\n",
    "# create array filled evenly spaced values - using defined breakpoints\n",
    "\n",
    "print(np.linspace(1,100,num=5,retstep=True))\n",
    "print(np.linspace(0,100,num=5,retstep=True))\n",
    "print(np.linspace(0,100,num=15,retstep=True,dtype=int))\n",
    "\n",
    "\n",
    "vec4=np.linspace(0,100,12)\n",
    "# transform a vector to a matrix using reshape\n",
    "# reshape to matrix using reshape function reshape(n-rows,n-column)\n",
    "print(vec4.reshape(2,6))"
   ]
  },
  {
   "cell_type": "code",
   "execution_count": 34,
   "id": "f757c14c",
   "metadata": {},
   "outputs": [
    {
     "name": "stdout",
     "output_type": "stream",
     "text": [
      "[[0 0]\n",
      " [0 0]\n",
      " [0 0]\n",
      " [0 0]\n",
      " [0 0]]\n",
      "\n",
      "[[1 1 1 1 1]\n",
      " [1 1 1 1 1]\n",
      " [1 1 1 1 1]]\n",
      "\n",
      "[[1 0 0 0]\n",
      " [0 1 0 0]\n",
      " [0 0 1 0]\n",
      " [0 0 0 1]]\n"
     ]
    }
   ],
   "source": [
    "mat2=np.zeros([5,2],dtype=int)\n",
    "print(mat2)\n",
    "print('')\n",
    "mat3 = np.ones((3,5),dtype=int)\n",
    "print(mat3)\n",
    "print('')\n",
    "mat4=np.eye(4,dtype=int)\n",
    "print(mat4)\n",
    "\n"
   ]
  },
  {
   "cell_type": "code",
   "execution_count": 35,
   "id": "fb397ad3",
   "metadata": {},
   "outputs": [
    {
     "name": "stdout",
     "output_type": "stream",
     "text": [
      "vec5 [1 2 3 4 5]\n",
      "vec6 [3 4 5 6 7]\n",
      "vec5+vec6 [ 4  6  8 10 12]\n",
      "vec5*vec6 [ 3  8 15 24 35]\n",
      "1/vec5 [1.         0.5        0.33333333 0.25       0.2       ]\n",
      "np.sqrt(vec6) [1.73205081 2.         2.23606798 2.44948974 2.64575131]\n"
     ]
    }
   ],
   "source": [
    "vec5=np.arange(1,6)\n",
    "vec6=np.arange(3,8)\n",
    "print('vec5',vec5)\n",
    "print('vec6',vec6)\n",
    "print('vec5+vec6',vec5+vec6)\n",
    "print('vec5*vec6',vec5*vec6)\n",
    "print('1/vec5',1/vec5)\n",
    "print('np.sqrt(vec6)',np.sqrt(vec6))\n"
   ]
  },
  {
   "cell_type": "code",
   "execution_count": 38,
   "id": "65e3380a",
   "metadata": {},
   "outputs": [
    {
     "name": "stdout",
     "output_type": "stream",
     "text": [
      "[[1 2 1]\n",
      " [4 5 9]\n",
      " [2 8 9]]\n",
      "\n",
      "[1 2 3]\n",
      "\n",
      "[ 8 41 45]\n"
     ]
    }
   ],
   "source": [
    "print(mat)\n",
    "print('')\n",
    "print(vec)\n",
    "print('')\n",
    "product = np.matmul(mat,vec)\n",
    "print(product)\n"
   ]
  },
  {
   "cell_type": "code",
   "execution_count": 42,
   "id": "748af59a",
   "metadata": {},
   "outputs": [
    {
     "name": "stdout",
     "output_type": "stream",
     "text": [
      "[[1 2 1]\n",
      " [4 5 9]\n",
      " [2 8 9]]\n",
      "\n",
      "[ 8 41 45]\n",
      "\n",
      "[1. 2. 3.]\n",
      "\n",
      "[[ 0.65853659  0.24390244 -0.31707317]\n",
      " [ 0.43902439 -0.17073171  0.12195122]\n",
      " [-0.53658537  0.09756098  0.07317073]]\n"
     ]
    }
   ],
   "source": [
    "# Linear algebra to get the original matrix from the vector and product matrix\n",
    "print(mat)\n",
    "print('')\n",
    "print(product)\n",
    "print('')\n",
    "print(np.linalg.solve(mat,product))\n",
    "print('')\n",
    "print(np.linalg.inv(mat))\n"
   ]
  },
  {
   "cell_type": "code",
   "execution_count": 46,
   "id": "965aae33",
   "metadata": {},
   "outputs": [
    {
     "name": "stdout",
     "output_type": "stream",
     "text": [
      "['blue' 'red' 'orange' 'purple' 'purple' 'orange' 'Red' '6']\n",
      "\n",
      "['6' 'Red' 'blue' 'orange' 'purple' 'red']\n"
     ]
    }
   ],
   "source": [
    "vec7=np.array(['blue','red','orange','purple','purple','orange','Red',6])\n",
    "print(vec7)\n",
    "print('')\n",
    "print(np.unique(vec7))\n"
   ]
  },
  {
   "cell_type": "code",
   "execution_count": 54,
   "id": "e366caab",
   "metadata": {},
   "outputs": [
    {
     "name": "stdout",
     "output_type": "stream",
     "text": [
      "[[0.04070323 0.59096512 0.31538955 0.68756134 0.49519013]\n",
      " [0.56699878 0.19398127 0.82309484 0.5046273  0.87748857]\n",
      " [0.06861267 0.36689218 0.47729733 0.37257763 0.79416169]\n",
      " [0.64970445 0.58392029 0.92513996 0.02421585 0.05169171]\n",
      " [0.11460437 0.06156127 0.81527781 0.45026708 0.81194722]]\n",
      "\n",
      "[[-1.02956581e+00  7.66006690e-01 -1.44188951e+00 -3.87497261e-01\n",
      "   7.11825975e-01]\n",
      " [ 2.59407423e+00 -1.37428826e+00 -3.56133490e-01  9.58708424e-01\n",
      "   1.74313699e+00]\n",
      " [ 1.82751287e+00 -6.73497206e-04 -9.84979437e-02  4.86285962e-02\n",
      "   6.49301607e-01]\n",
      " [ 4.31600761e-01 -1.99869142e+00 -9.75806858e-01  5.05545724e-01\n",
      "   8.60245080e-01]\n",
      " [ 1.53272529e+00 -1.48702390e+00  9.95438586e-01 -4.56688441e-01\n",
      "   7.53457006e-01]\n",
      " [-4.34457254e-01 -1.82984378e+00 -7.42362146e-01 -6.19647228e-01\n",
      "   6.38747741e-01]\n",
      " [-1.93040712e+00 -9.25939095e-01  5.59795762e-02 -7.88795146e-03\n",
      "   1.58864580e+00]\n",
      " [-3.83008357e-01  1.39436324e+00 -1.10641443e+00  8.72569480e-01\n",
      "  -9.51236168e-01]\n",
      " [ 1.61359241e+00 -4.91477952e-01 -2.26685322e-01 -1.02078489e+00\n",
      "  -4.17050215e-01]\n",
      " [ 1.01012505e+00 -1.78689332e+00 -4.21520063e-01 -1.91388924e-01\n",
      "  -4.63744003e-01]]\n"
     ]
    }
   ],
   "source": [
    "rand_mat = np.random.rand(5,5) # uniform random\n",
    "rand_mat2 = np.random.randn(10,5) # normal random\n",
    "print(rand_mat)\n",
    "print('')\n",
    "print(rand_mat2)\n"
   ]
  },
  {
   "cell_type": "code",
   "execution_count": 52,
   "id": "ffcf9fc9",
   "metadata": {},
   "outputs": [
    {
     "name": "stdout",
     "output_type": "stream",
     "text": [
      "0.4611216448628329\n",
      "1.121219522395398\n"
     ]
    }
   ],
   "source": [
    "print(np.mean(rand_mat))\n",
    "print(np.std(rand_mat2))\n"
   ]
  },
  {
   "cell_type": "code",
   "execution_count": 55,
   "id": "bfc24bf3",
   "metadata": {},
   "outputs": [
    {
     "name": "stdout",
     "output_type": "stream",
     "text": [
      "0.02421585257652903\n",
      "2.5940742278991777\n"
     ]
    }
   ],
   "source": [
    "print(np.min(rand_mat))\n",
    "print(np.max(rand_mat2))"
   ]
  },
  {
   "cell_type": "code",
   "execution_count": 69,
   "id": "e8bd6c4a",
   "metadata": {},
   "outputs": [
    {
     "name": "stdout",
     "output_type": "stream",
     "text": [
      "[ 0.46472165 -0.14791951  0.42954015 -0.95947801 -0.95437973 -1.0201029\n",
      "  0.28042341 -1.07872662  0.88877485  0.73239982  1.53721124 -0.11899834\n",
      " -1.01570207 -1.3549212  -1.01693149 -1.86458377 -0.3137647   0.13657267\n",
      "  0.53752146]\n",
      "0.28042341231362344\n"
     ]
    }
   ],
   "source": [
    "rand_vec = np.random.randn(19)\n",
    "print(rand_vec)\n",
    "\n",
    "print(rand_vec[6])"
   ]
  },
  {
   "cell_type": "code",
   "execution_count": 70,
   "id": "bd37cd61",
   "metadata": {},
   "outputs": [
    {
     "name": "stdout",
     "output_type": "stream",
     "text": [
      "[-0.95437973 -1.0201029   0.28042341 -1.07872662  0.88877485]\n"
     ]
    }
   ],
   "source": [
    "print(rand_vec[4:9])"
   ]
  },
  {
   "cell_type": "code",
   "execution_count": 72,
   "id": "485c14c3",
   "metadata": {},
   "outputs": [
    {
     "name": "stdout",
     "output_type": "stream",
     "text": [
      "[ 0  3  6  9 12]\n",
      "[ 0.46472165 -0.95947801  0.28042341  0.73239982 -1.01570207]\n"
     ]
    }
   ],
   "source": [
    "print(np.arange(0,15,3))\n",
    "print(rand_vec[np.arange(0,15,3)])"
   ]
  },
  {
   "cell_type": "code",
   "execution_count": 74,
   "id": "4c3dda8b",
   "metadata": {},
   "outputs": [
    {
     "name": "stdout",
     "output_type": "stream",
     "text": [
      "[[0.04070323 0.59096512 0.31538955 0.68756134 0.49519013]\n",
      " [0.56699878 0.19398127 0.82309484 0.5046273  0.87748857]\n",
      " [0.06861267 0.36689218 0.47729733 0.37257763 0.79416169]\n",
      " [0.64970445 0.58392029 0.92513996 0.02421585 0.05169171]\n",
      " [0.11460437 0.06156127 0.81527781 0.45026708 0.81194722]]\n",
      "0.8230948361994626\n",
      "0.8230948361994626\n"
     ]
    }
   ],
   "source": [
    "print(rand_mat)\n",
    "print(rand_mat[1][2])\n",
    "print(rand_mat[1,2])"
   ]
  },
  {
   "cell_type": "code",
   "execution_count": 76,
   "id": "0c1e2b23",
   "metadata": {},
   "outputs": [
    {
     "name": "stdout",
     "output_type": "stream",
     "text": [
      "[[0.59096512 0.31538955]\n",
      " [0.19398127 0.82309484]]\n"
     ]
    }
   ],
   "source": [
    "print(rand_mat[0:2,1:3])"
   ]
  },
  {
   "cell_type": "code",
   "execution_count": 80,
   "id": "63fa927d",
   "metadata": {},
   "outputs": [
    {
     "name": "stdout",
     "output_type": "stream",
     "text": [
      "[ 0.46472165 -0.14791951  0.42954015  1.02        2.01       -1.0201029\n",
      "  0.28042341 -1.07872662  0.88877485  0.73239982  1.53721124 -0.11899834\n",
      " -1.01570207 -1.3549212  -1.01693149 -1.86458377 -0.3137647   0.13657267\n",
      "  0.53752146]\n",
      "\n",
      "[ 0.46472165 -0.14791951  0.42954015  4.4         4.4        -1.0201029\n",
      "  0.28042341 -1.07872662  0.88877485  0.73239982  1.53721124 -0.11899834\n",
      " -1.01570207 -1.3549212  -1.01693149 -1.86458377 -0.3137647   0.13657267\n",
      "  0.53752146]\n",
      "[ 0.46472165 -0.14791951  0.42954015  1.02        2.01       -1.0201029\n",
      "  0.28042341 -1.07872662  0.88877485  0.73239982  1.53721124 -0.11899834\n",
      " -1.01570207 -1.3549212  -1.01693149 -1.86458377 -0.3137647   0.13657267\n",
      "  0.53752146]\n",
      "\n",
      "19\n"
     ]
    }
   ],
   "source": [
    "print(rand_vec)\n",
    "rand_vec[3:5]=4.4\n",
    "print('')\n",
    "print(rand_vec)\n",
    "rand_vec[3:5]=[1.02,2.01]\n",
    "print(rand_vec)\n",
    "print('')\n",
    "print(len(rand_vec))"
   ]
  },
  {
   "cell_type": "code",
   "execution_count": 83,
   "id": "45f7af7f",
   "metadata": {},
   "outputs": [
    {
     "name": "stdout",
     "output_type": "stream",
     "text": [
      "[[0.04070323 0.59096512 0.31538955 0.68756134 0.49519013]\n",
      " [0.56699878 0.19398127 0.82309484 0.         0.        ]\n",
      " [0.06861267 0.36689218 0.47729733 0.         0.        ]\n",
      " [0.64970445 0.58392029 0.92513996 0.02421585 0.05169171]\n",
      " [0.11460437 0.06156127 0.81527781 0.45026708 0.81194722]]\n",
      "\n",
      "[[0.04070323 0.59096512 0.31538955 0.68756134 0.49519013]\n",
      " [0.56699878 0.19398127 0.82309484 0.         0.        ]\n",
      " [0.06861267 0.36689218 0.47729733 0.         0.        ]\n",
      " [0.64970445 0.58392029 0.92513996 0.02421585 0.05169171]\n",
      " [0.11460437 0.06156127 0.81527781 0.45026708 0.81194722]]\n"
     ]
    }
   ],
   "source": [
    "print(rand_mat)\n",
    "rand_mat[1:3,3:5]=[0,0.0]\n",
    "print('')\n",
    "print(rand_mat)\n"
   ]
  },
  {
   "cell_type": "code",
   "execution_count": 85,
   "id": "f0225b97",
   "metadata": {},
   "outputs": [
    {
     "name": "stdout",
     "output_type": "stream",
     "text": [
      "[[3. 3. 3.]\n",
      " [3. 3. 3.]]\n",
      "\n",
      "[[3. 3. 3.]\n",
      " [3. 3. 3.]]\n"
     ]
    }
   ],
   "source": [
    "sub_mat = rand_mat[0:2,0:3]\n",
    "print(sub_mat)\n",
    "sub_mat[:]=3\n",
    "print('')\n",
    "print(sub_mat)"
   ]
  },
  {
   "cell_type": "code",
   "execution_count": 87,
   "id": "40605e75",
   "metadata": {},
   "outputs": [
    {
     "name": "stdout",
     "output_type": "stream",
     "text": [
      "[[3.         3.         3.         0.68756134 0.49519013]\n",
      " [3.         3.         3.         0.         0.        ]\n",
      " [0.06861267 0.36689218 0.47729733 0.         0.        ]\n",
      " [0.64970445 0.58392029 0.92513996 0.02421585 0.05169171]\n",
      " [0.11460437 0.06156127 0.81527781 0.45026708 0.81194722]]\n"
     ]
    }
   ],
   "source": [
    "print(rand_mat)"
   ]
  },
  {
   "cell_type": "code",
   "execution_count": 89,
   "id": "70534965",
   "metadata": {},
   "outputs": [
    {
     "name": "stdout",
     "output_type": "stream",
     "text": [
      "[[3. 3. 3.]\n",
      " [3. 3. 3.]]\n",
      "[[3.         3.         3.         0.68756134 0.49519013]\n",
      " [3.         3.         3.         0.         0.        ]\n",
      " [0.06861267 0.36689218 0.47729733 0.         0.        ]\n",
      " [0.64970445 0.58392029 0.92513996 0.02421585 0.05169171]\n",
      " [0.11460437 0.06156127 0.81527781 0.45026708 0.81194722]]\n",
      "[[99. 99. 99.]\n",
      " [99. 99. 99.]]\n",
      "[[3.         3.         3.         0.68756134 0.49519013]\n",
      " [3.         3.         3.         0.         0.        ]\n",
      " [0.06861267 0.36689218 0.47729733 0.         0.        ]\n",
      " [0.64970445 0.58392029 0.92513996 0.02421585 0.05169171]\n",
      " [0.11460437 0.06156127 0.81527781 0.45026708 0.81194722]]\n"
     ]
    }
   ],
   "source": [
    "sub_mat2=rand_mat[0:2,0:3].copy()\n",
    "print(sub_mat2)\n",
    "print(rand_mat)\n",
    "sub_mat2[:] = 99\n",
    "print(sub_mat2)\n",
    "print(rand_mat)"
   ]
  },
  {
   "cell_type": "code",
   "execution_count": 91,
   "id": "2d5cb79f",
   "metadata": {},
   "outputs": [
    {
     "name": "stdout",
     "output_type": "stream",
     "text": [
      "[-0.14998315 -0.15371071  1.03089785 -0.81954185 -0.77538387  1.68586523\n",
      "  1.07519809 -0.86531521  0.64157113 -0.53393654  1.46662442 -0.09387869\n",
      " -0.90773434 -0.92964836  0.6103927 ]\n",
      "\n",
      "[False False  True False False  True  True False  True False  True False\n",
      " False False  True]\n",
      "\n",
      "[1.03089785 1.68586523 1.07519809 0.64157113 1.46662442 0.6103927 ]\n"
     ]
    }
   ],
   "source": [
    "rand_vec = np.random.randn(15)\n",
    "print(rand_vec)\n",
    "print('')\n",
    "print(rand_vec>0)\n",
    "print('')\n",
    "print(rand_vec[rand_vec>0])\n"
   ]
  },
  {
   "cell_type": "code",
   "execution_count": 93,
   "id": "ddb522c8",
   "metadata": {},
   "outputs": [
    {
     "name": "stdout",
     "output_type": "stream",
     "text": [
      "[[-1.02956581e+00  7.66006690e-01 -1.44188951e+00 -3.87497261e-01\n",
      "   7.11825975e-01]\n",
      " [ 2.59407423e+00 -1.37428826e+00 -3.56133490e-01  9.58708424e-01\n",
      "   1.74313699e+00]\n",
      " [ 1.82751287e+00 -6.73497206e-04 -9.84979437e-02  4.86285962e-02\n",
      "   6.49301607e-01]\n",
      " [ 4.31600761e-01 -1.99869142e+00 -9.75806858e-01  5.05545724e-01\n",
      "   8.60245080e-01]\n",
      " [ 1.53272529e+00 -1.48702390e+00  9.95438586e-01 -4.56688441e-01\n",
      "   7.53457006e-01]\n",
      " [-4.34457254e-01 -1.82984378e+00 -7.42362146e-01 -6.19647228e-01\n",
      "   6.38747741e-01]\n",
      " [-1.93040712e+00 -9.25939095e-01  5.59795762e-02 -7.88795146e-03\n",
      "   1.58864580e+00]\n",
      " [-3.83008357e-01  1.39436324e+00 -1.10641443e+00  8.72569480e-01\n",
      "  -9.51236168e-01]\n",
      " [ 1.61359241e+00 -4.91477952e-01 -2.26685322e-01 -1.02078489e+00\n",
      "  -4.17050215e-01]\n",
      " [ 1.01012505e+00 -1.78689332e+00 -4.21520063e-01 -1.91388924e-01\n",
      "  -4.63744003e-01]]\n",
      "[0.76600669 0.71182598 2.59407423 0.95870842 1.74313699 1.82751287\n",
      " 0.0486286  0.64930161 0.43160076 0.50554572 0.86024508 1.53272529\n",
      " 0.99543859 0.75345701 0.63874774 0.05597958 1.5886458  1.39436324\n",
      " 0.87256948 1.61359241 1.01012505]\n",
      "10\n"
     ]
    }
   ],
   "source": [
    "print(rand_mat2)\n",
    "print(rand_mat2[rand_mat2>0])\n"
   ]
  },
  {
   "cell_type": "code",
   "execution_count": 94,
   "id": "fd104c57",
   "metadata": {},
   "outputs": [
    {
     "name": "stdout",
     "output_type": "stream",
     "text": [
      "[-0.14998315 -0.15371071  1.03089785 -0.81954185 -0.77538387  1.68586523\n",
      "  1.07519809 -0.86531521  0.64157113 -0.53393654  1.46662442 -0.09387869\n",
      " -0.90773434 -0.92964836  0.6103927 ]\n",
      "\n",
      "[-0.14998315 -0.15371071 -5.         -0.81954185 -0.77538387 -5.\n",
      " -5.         -0.86531521 -5.         -0.53393654 -5.         -0.09387869\n",
      " -0.90773434 -0.92964836 -5.        ]\n"
     ]
    }
   ],
   "source": [
    "print(rand_vec)\n",
    "print('')\n",
    "rand_vec[rand_vec>0.5] = -5\n",
    "print(rand_vec)"
   ]
  },
  {
   "cell_type": "code",
   "execution_count": 96,
   "id": "ebd8dcb9",
   "metadata": {},
   "outputs": [],
   "source": [
    "np.save('saved_file_name',rand_mat2)"
   ]
  },
  {
   "cell_type": "code",
   "execution_count": 98,
   "id": "844031b3",
   "metadata": {},
   "outputs": [],
   "source": [
    "np.savez('zipped_file_name',rand_mat=rand_mat,rand_mat2=rand_mat2)"
   ]
  },
  {
   "cell_type": "code",
   "execution_count": 92,
   "id": "14df05d1",
   "metadata": {},
   "outputs": [
    {
     "name": "stdout",
     "output_type": "stream",
     "text": [
      "[[-1.02956581e+00  7.66006690e-01 -1.44188951e+00 -3.87497261e-01\n",
      "   7.11825975e-01]\n",
      " [ 2.59407423e+00 -1.37428826e+00 -3.56133490e-01  9.58708424e-01\n",
      "   1.74313699e+00]\n",
      " [ 1.82751287e+00 -6.73497206e-04 -9.84979437e-02  4.86285962e-02\n",
      "   6.49301607e-01]\n",
      " [ 4.31600761e-01 -1.99869142e+00 -9.75806858e-01  5.05545724e-01\n",
      "   8.60245080e-01]\n",
      " [ 1.53272529e+00 -1.48702390e+00  9.95438586e-01 -4.56688441e-01\n",
      "   7.53457006e-01]\n",
      " [-4.34457254e-01 -1.82984378e+00 -7.42362146e-01 -6.19647228e-01\n",
      "   6.38747741e-01]\n",
      " [-1.93040712e+00 -9.25939095e-01  5.59795762e-02 -7.88795146e-03\n",
      "   1.58864580e+00]\n",
      " [-3.83008357e-01  1.39436324e+00 -1.10641443e+00  8.72569480e-01\n",
      "  -9.51236168e-01]\n",
      " [ 1.61359241e+00 -4.91477952e-01 -2.26685322e-01 -1.02078489e+00\n",
      "  -4.17050215e-01]\n",
      " [ 1.01012505e+00 -1.78689332e+00 -4.21520063e-01 -1.91388924e-01\n",
      "  -4.63744003e-01]]\n",
      "\n",
      "<numpy.lib.npyio.NpzFile object at 0x0000024DB4A8B460>\n"
     ]
    }
   ],
   "source": [
    "# load(file, mmap_mode, allow_pickle, fix_imports, encoding)\n",
    "loaded_vec = np.load('saved_file_name.npy')\n",
    "loaded_zip = np.load('zipped_file_name.npz')\n",
    "print(loaded_vec)\n",
    "print('')\n",
    "print(loaded_zip)\n"
   ]
  },
  {
   "cell_type": "code",
   "execution_count": 103,
   "id": "84a7a675",
   "metadata": {},
   "outputs": [
    {
     "name": "stdout",
     "output_type": "stream",
     "text": [
      "rand_mat\n",
      "\n",
      "rand_mat2\n",
      "\n",
      "\n",
      "[[3.         3.         3.         0.68756134 0.49519013]\n",
      " [3.         3.         3.         0.         0.        ]\n",
      " [0.06861267 0.36689218 0.47729733 0.         0.        ]\n",
      " [0.64970445 0.58392029 0.92513996 0.02421585 0.05169171]\n",
      " [0.11460437 0.06156127 0.81527781 0.45026708 0.81194722]]\n",
      "\n",
      "[[-1.02956581e+00  7.66006690e-01 -1.44188951e+00 -3.87497261e-01\n",
      "   7.11825975e-01]\n",
      " [ 2.59407423e+00 -1.37428826e+00 -3.56133490e-01  9.58708424e-01\n",
      "   1.74313699e+00]\n",
      " [ 1.82751287e+00 -6.73497206e-04 -9.84979437e-02  4.86285962e-02\n",
      "   6.49301607e-01]\n",
      " [ 4.31600761e-01 -1.99869142e+00 -9.75806858e-01  5.05545724e-01\n",
      "   8.60245080e-01]\n",
      " [ 1.53272529e+00 -1.48702390e+00  9.95438586e-01 -4.56688441e-01\n",
      "   7.53457006e-01]\n",
      " [-4.34457254e-01 -1.82984378e+00 -7.42362146e-01 -6.19647228e-01\n",
      "   6.38747741e-01]\n",
      " [-1.93040712e+00 -9.25939095e-01  5.59795762e-02 -7.88795146e-03\n",
      "   1.58864580e+00]\n",
      " [-3.83008357e-01  1.39436324e+00 -1.10641443e+00  8.72569480e-01\n",
      "  -9.51236168e-01]\n",
      " [ 1.61359241e+00 -4.91477952e-01 -2.26685322e-01 -1.02078489e+00\n",
      "  -4.17050215e-01]\n",
      " [ 1.01012505e+00 -1.78689332e+00 -4.21520063e-01 -1.91388924e-01\n",
      "  -4.63744003e-01]]\n",
      "\n",
      "\n",
      "\n",
      "[[3.         3.         3.         0.68756134 0.49519013]\n",
      " [3.         3.         3.         0.         0.        ]\n",
      " [0.06861267 0.36689218 0.47729733 0.         0.        ]\n",
      " [0.64970445 0.58392029 0.92513996 0.02421585 0.05169171]\n",
      " [0.11460437 0.06156127 0.81527781 0.45026708 0.81194722]]\n",
      "\n",
      "[[-1.02956581e+00  7.66006690e-01 -1.44188951e+00 -3.87497261e-01\n",
      "   7.11825975e-01]\n",
      " [ 2.59407423e+00 -1.37428826e+00 -3.56133490e-01  9.58708424e-01\n",
      "   1.74313699e+00]\n",
      " [ 1.82751287e+00 -6.73497206e-04 -9.84979437e-02  4.86285962e-02\n",
      "   6.49301607e-01]\n",
      " [ 4.31600761e-01 -1.99869142e+00 -9.75806858e-01  5.05545724e-01\n",
      "   8.60245080e-01]\n",
      " [ 1.53272529e+00 -1.48702390e+00  9.95438586e-01 -4.56688441e-01\n",
      "   7.53457006e-01]\n",
      " [-4.34457254e-01 -1.82984378e+00 -7.42362146e-01 -6.19647228e-01\n",
      "   6.38747741e-01]\n",
      " [-1.93040712e+00 -9.25939095e-01  5.59795762e-02 -7.88795146e-03\n",
      "   1.58864580e+00]\n",
      " [-3.83008357e-01  1.39436324e+00 -1.10641443e+00  8.72569480e-01\n",
      "  -9.51236168e-01]\n",
      " [ 1.61359241e+00 -4.91477952e-01 -2.26685322e-01 -1.02078489e+00\n",
      "  -4.17050215e-01]\n",
      " [ 1.01012505e+00 -1.78689332e+00 -4.21520063e-01 -1.91388924e-01\n",
      "  -4.63744003e-01]]\n"
     ]
    }
   ],
   "source": [
    "# print(loaded_zip.keys())\n",
    "zipkeys = loaded_zip.keys()\n",
    "for key in zipkeys:\n",
    "    print(key)\n",
    "    print('')\n",
    "\n",
    "print('')\n",
    "zipval = loaded_zip.values()\n",
    "for val in zipval:\n",
    "    print(val)\n",
    "    print('')\n",
    "print('')\n",
    "# loadedzipitems= loaded_zip.items()\n",
    "# for item in loadedzipitems:\n",
    "#     print(item)\n",
    "\n",
    "print('')\n",
    "print(loaded_zip['rand_mat'])\n",
    "print('')\n",
    "print(loaded_zip['rand_mat2'])\n"
   ]
  },
  {
   "cell_type": "code",
   "execution_count": 93,
   "id": "9f81ed5c",
   "metadata": {},
   "outputs": [
    {
     "ename": "NameError",
     "evalue": "name 'rand_mat' is not defined",
     "output_type": "error",
     "traceback": [
      "\u001b[1;31m---------------------------------------------------------------------------\u001b[0m",
      "\u001b[1;31mNameError\u001b[0m                                 Traceback (most recent call last)",
      "\u001b[1;32mC:\\Users\\PRAKHA~1\\AppData\\Local\\Temp/ipykernel_19700/3672494369.py\u001b[0m in \u001b[0;36m<module>\u001b[1;34m\u001b[0m\n\u001b[1;32m----> 1\u001b[1;33m \u001b[0mnp\u001b[0m\u001b[1;33m.\u001b[0m\u001b[0msavetxt\u001b[0m\u001b[1;33m(\u001b[0m\u001b[1;34m'text_file_name.txt'\u001b[0m\u001b[1;33m,\u001b[0m\u001b[0mrand_mat\u001b[0m\u001b[1;33m,\u001b[0m\u001b[0mdelimiter\u001b[0m\u001b[1;33m=\u001b[0m\u001b[1;34m','\u001b[0m\u001b[1;33m)\u001b[0m\u001b[1;33m\u001b[0m\u001b[1;33m\u001b[0m\u001b[0m\n\u001b[0m\u001b[0;32m      2\u001b[0m \u001b[0mrand_mat_txt\u001b[0m \u001b[1;33m=\u001b[0m \u001b[0mnp\u001b[0m\u001b[1;33m.\u001b[0m\u001b[0mloadtxt\u001b[0m\u001b[1;33m(\u001b[0m\u001b[1;34m'text_file_name.txt'\u001b[0m\u001b[1;33m,\u001b[0m\u001b[0mdelimiter\u001b[0m\u001b[1;33m=\u001b[0m\u001b[1;34m','\u001b[0m\u001b[1;33m)\u001b[0m\u001b[1;33m\u001b[0m\u001b[1;33m\u001b[0m\u001b[0m\n\u001b[0;32m      3\u001b[0m \u001b[0mprint\u001b[0m\u001b[1;33m(\u001b[0m\u001b[0mrand_mat\u001b[0m\u001b[1;33m)\u001b[0m\u001b[1;33m\u001b[0m\u001b[1;33m\u001b[0m\u001b[0m\n\u001b[0;32m      4\u001b[0m \u001b[0mprint\u001b[0m\u001b[1;33m(\u001b[0m\u001b[1;34m''\u001b[0m\u001b[1;33m)\u001b[0m\u001b[1;33m\u001b[0m\u001b[1;33m\u001b[0m\u001b[0m\n\u001b[0;32m      5\u001b[0m \u001b[0mprint\u001b[0m\u001b[1;33m(\u001b[0m\u001b[0mrand_mat_txt\u001b[0m\u001b[1;33m)\u001b[0m\u001b[1;33m\u001b[0m\u001b[1;33m\u001b[0m\u001b[0m\n",
      "\u001b[1;31mNameError\u001b[0m: name 'rand_mat' is not defined"
     ]
    }
   ],
   "source": [
    "np.savetxt('text_file_name.txt',rand_mat,delimiter=',')\n",
    "rand_mat_txt = np.loadtxt('text_file_name.txt',delimiter=',')\n",
    "print(rand_mat)\n",
    "print('')\n",
    "print(rand_mat_txt)"
   ]
  },
  {
   "cell_type": "code",
   "execution_count": 96,
   "id": "b8001f6e",
   "metadata": {},
   "outputs": [
    {
     "name": "stdout",
     "output_type": "stream",
     "text": [
      "[[      nan       nan       nan       nan       nan]\n",
      " [100001.         nan       nan   3693.62       nan]\n",
      " [100002.         nan       nan   4000.63       nan]\n",
      " ...\n",
      " [101057.         nan       nan 327896.18       nan]\n",
      " [101058.         nan       nan 328203.19       nan]\n",
      " [101059.         nan       nan 328510.2        nan]]\n"
     ]
    }
   ],
   "source": [
    "readcsvnp = np.genfromtxt('Book1.csv',delimiter=',')\n",
    "print(readcsvnp)"
   ]
  }
 ],
 "metadata": {
  "kernelspec": {
   "display_name": "Python 3 (ipykernel)",
   "language": "python",
   "name": "python3"
  },
  "language_info": {
   "codemirror_mode": {
    "name": "ipython",
    "version": 3
   },
   "file_extension": ".py",
   "mimetype": "text/x-python",
   "name": "python",
   "nbconvert_exporter": "python",
   "pygments_lexer": "ipython3",
   "version": "3.9.7"
  }
 },
 "nbformat": 4,
 "nbformat_minor": 5
}
