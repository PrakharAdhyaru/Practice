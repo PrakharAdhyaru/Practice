{
 "cells": [
  {
   "cell_type": "code",
   "execution_count": 4,
   "id": "be4572dd",
   "metadata": {},
   "outputs": [
    {
     "name": "stdout",
     "output_type": "stream",
     "text": [
      "9-2-3\n"
     ]
    }
   ],
   "source": [
    "print(9,2,3,sep='-')"
   ]
  },
  {
   "cell_type": "code",
   "execution_count": 9,
   "id": "36eaff51",
   "metadata": {},
   "outputs": [
    {
     "name": "stdout",
     "output_type": "stream",
     "text": [
      "Prakhar$Adhyaru$Learning Python\n",
      "Welcome Python world\n"
     ]
    }
   ],
   "source": [
    "print('Prakhar','Adhyaru','Learning Python', sep='$',end='\\n')\n",
    "print('Welcome Python world')"
   ]
  },
  {
   "cell_type": "code",
   "execution_count": 10,
   "id": "133f802d",
   "metadata": {},
   "outputs": [
    {
     "name": "stdout",
     "output_type": "stream",
     "text": [
      "13\n",
      "5\n",
      "36\n",
      "2.25\n",
      "2\n",
      "1\n",
      "6561\n"
     ]
    }
   ],
   "source": [
    "# Examples of Arithmetic Operator\n",
    "a = 9\n",
    "b = 4\n",
    " \n",
    "# Addition of numbers\n",
    "add = a + b\n",
    " \n",
    "# Subtraction of numbers\n",
    "sub = a - b\n",
    " \n",
    "# Multiplication of number\n",
    "mul = a * b\n",
    " \n",
    "# Division(float) of number\n",
    "div1 = a / b\n",
    " \n",
    "# Division(floor) of number\n",
    "divfloor2 = a // b\n",
    " \n",
    "# Modulo of both number\n",
    "mod = a % b\n",
    " \n",
    "# Power\n",
    "p = a ** b\n",
    " \n",
    "# print results\n",
    "print(add)\n",
    "print(sub)\n",
    "print(mul)\n",
    "print(div1)\n",
    "print(divfloor2)\n",
    "print(mod)\n",
    "print(p)"
   ]
  },
  {
   "cell_type": "code",
   "execution_count": 12,
   "id": "b98a3c7e",
   "metadata": {},
   "outputs": [
    {
     "name": "stdout",
     "output_type": "stream",
     "text": [
      "Is a greater than b  False\n",
      "Is a less than b  True\n",
      "Is a equal to  b  False\n",
      "is a not equal to b  True\n",
      "Is a greater than or equal to  b  False\n",
      "Is a less than or equal to  b  True\n"
     ]
    }
   ],
   "source": [
    "# Examples of Relational Operators\n",
    "a = 13\n",
    "b = 33\n",
    " \n",
    "# a > b is False\n",
    "print('Is a greater than b ',a > b)\n",
    " \n",
    "# a < b is True\n",
    "print('Is a less than b ',a < b)\n",
    " \n",
    "# a == b is False\n",
    "print('Is a equal to  b ',a == b)\n",
    " \n",
    "# a != b is True\n",
    "print('is a not equal to b ',a != b)\n",
    " \n",
    "# a >= b is False\n",
    "print('Is a greater than or equal to  b ',a >= b)\n",
    " \n",
    "# a <= b is True\n",
    "print('Is a less than or equal to  b ',a <= b)"
   ]
  },
  {
   "cell_type": "code",
   "execution_count": 16,
   "id": "623ba84f",
   "metadata": {},
   "outputs": [
    {
     "name": "stdout",
     "output_type": "stream",
     "text": [
      "False\n",
      "True\n",
      "False\n"
     ]
    }
   ],
   "source": [
    "# Examples of Logical Operator\n",
    "a = True\n",
    "b = False\n",
    " \n",
    "# Print a and b is False\n",
    "print(a and b)\n",
    " \n",
    "# Print a or b is True\n",
    "print(a or b)\n",
    " \n",
    "# Print not a is False\n",
    "print(not a)"
   ]
  },
  {
   "cell_type": "code",
   "execution_count": 18,
   "id": "ad35da52",
   "metadata": {},
   "outputs": [
    {
     "name": "stdout",
     "output_type": "stream",
     "text": [
      "0\n",
      "14\n",
      "-11\n",
      "14\n",
      "2\n",
      "40\n"
     ]
    }
   ],
   "source": [
    "# Examples of Bitwise operators\n",
    "a = 10\n",
    "b = 4\n",
    " \n",
    "# Print bitwise AND operation\n",
    "print(a & b)\n",
    " \n",
    "# Print bitwise OR operation\n",
    "print(a | b)\n",
    " \n",
    "# Print bitwise NOT operation\n",
    "print(~a)\n",
    " \n",
    "# print bitwise XOR operation\n",
    "print(a ^ b)\n",
    " \n",
    "# print bitwise right shift operation\n",
    "print(a >> 2)\n",
    " \n",
    "# print bitwise left shift operation\n",
    "print(a << 2)"
   ]
  },
  {
   "cell_type": "code",
   "execution_count": 144,
   "id": "f47c89b9",
   "metadata": {
    "scrolled": true
   },
   "outputs": [
    {
     "name": "stdout",
     "output_type": "stream",
     "text": [
      "True\n",
      "False\n",
      "True\n",
      "True\n",
      "False\n",
      "True\n"
     ]
    }
   ],
   "source": [
    "#Identity Operator\n",
    "#is          True if the operands are identical \n",
    "#is not      True if the operands are not identical \n",
    "a = 'Prakhar'\n",
    "b = 'Adhyaru'\n",
    "c = a\n",
    "l1=[1,2,3,4]\n",
    "l2=[1,2,3,4]\n",
    " \n",
    "print(a is not b)\n",
    "print(b is c)\n",
    "\n",
    "print(a is c)\n",
    "print(a==c)\n",
    "\n",
    "print(l1 is l2)\n",
    "print(l1 == l2)"
   ]
  },
  {
   "cell_type": "markdown",
   "id": "0f780a63",
   "metadata": {},
   "source": [
    "# Membership Operators\n",
    "\n",
    "in and not in are the membership operators; used to test whether a value or variable is in a sequence.\n",
    "\n",
    "<b>in</b>             True if value is found in the sequence.\n",
    "\n",
    "<b>not in</b>         True if value is not found in the sequence."
   ]
  },
  {
   "cell_type": "code",
   "execution_count": 30,
   "id": "31c8f35c",
   "metadata": {},
   "outputs": [
    {
     "name": "stdout",
     "output_type": "stream",
     "text": [
      "x is NOT present in given list\n",
      "y is present in given list\n",
      "c is present in given list\n"
     ]
    }
   ],
   "source": [
    "# Python program to illustrate\n",
    "# not 'in' operator\n",
    "x = 24\n",
    "y = 20\n",
    "c='Prakhar'\n",
    "list = [10, 20, 30, 40, 50,'Prakhar']\n",
    " \n",
    "if (x not in list):\n",
    "    print(\"x is NOT present in given list\")\n",
    "else:\n",
    "    print(\"x is present in given list\")\n",
    " \n",
    "if (y in list):\n",
    "    print(\"y is present in given list\")\n",
    "else:\n",
    "    print(\"y is NOT present in given list\")\n",
    "\n",
    "if (c in list):\n",
    "    print(\"c is present in given list\")\n",
    "else:\n",
    "    print(\"c is NOT present in given list\")"
   ]
  },
  {
   "cell_type": "code",
   "execution_count": 34,
   "id": "c8af8188",
   "metadata": {},
   "outputs": [
    {
     "name": "stdout",
     "output_type": "stream",
     "text": [
      "30\n"
     ]
    }
   ],
   "source": [
    "# Program to demonstrate conditional operator\n",
    "a, b = 30, 40\n",
    " \n",
    "# Copy value of a in min if a < b else copy b\n",
    "min = a if a < b else b\n",
    " \n",
    "print(min)"
   ]
  },
  {
   "cell_type": "code",
   "execution_count": 41,
   "id": "02b393e3",
   "metadata": {},
   "outputs": [
    {
     "name": "stdout",
     "output_type": "stream",
     "text": [
      "10\n",
      "10\n",
      "10\n",
      "False\n",
      "True\n",
      "True\n"
     ]
    }
   ],
   "source": [
    "# Python program to demonstrate ternary operator\n",
    "a, b = 10, 20\n",
    "\n",
    "# Use tuple for selecting an item\n",
    "# (if_test_false,if_test_true)[test]\n",
    "# if [a<b] is true it return 1, so element with 1 index will print\n",
    "# else if [a<b] is false it return 0, so element with 0 index will print\n",
    "print( (b, a) [a < b] )\n",
    "\n",
    "# Use Dictionary for selecting an item\n",
    "# if [a < b] is true then value of True key will print\n",
    "# elif [a<b] is false then value of False key will print\n",
    "print({True: a, False: b} [a < b])\n",
    "\n",
    "# lambda is more efficient than above two methods\n",
    "# because in lambda we are assure that\n",
    "# only one expression will be evaluated unlike in\n",
    "# tuple and Dictionary\n",
    "print((lambda: b, lambda: a)[a < b]())\n",
    "\n",
    "c= 0\n",
    "print((lambda: False, lambda: True)[c]())\n",
    "\n",
    "d= 1\n",
    "print((lambda: False, lambda: True)[d]())\n",
    "\n",
    "e= -1\n",
    "print((lambda: False, lambda: True)[e]())\n",
    "\n",
    "\n"
   ]
  },
  {
   "cell_type": "code",
   "execution_count": 43,
   "id": "92f37dec",
   "metadata": {},
   "outputs": [
    {
     "name": "stdout",
     "output_type": "stream",
     "text": [
      "b is greater than a\n"
     ]
    }
   ],
   "source": [
    "# Python program to demonstrate nested ternary operator\n",
    "a, b = 10, 20\n",
    " \n",
    "print (\"Both a and b are equal\" if a == b else \"a is greater than b\"\n",
    "        if a > b else \"b is greater than a\")"
   ]
  },
  {
   "cell_type": "code",
   "execution_count": 50,
   "id": "744db153",
   "metadata": {},
   "outputs": [
    {
     "name": "stdout",
     "output_type": "stream",
     "text": [
      "15 is greater than 7\n"
     ]
    }
   ],
   "source": [
    "a=15\n",
    "b=7\n",
    " \n",
    "# [statement_on_True] if [condition] else [statement_on_false]\n",
    " \n",
    "print(a,'is greater than',b) if (a>b) else print(b,'is Greater than',a)"
   ]
  },
  {
   "cell_type": "code",
   "execution_count": 56,
   "id": "d1d62243",
   "metadata": {},
   "outputs": [
    {
     "name": "stdout",
     "output_type": "stream",
     "text": [
      "2.0\n"
     ]
    }
   ],
   "source": [
    "# Program to demonstrate conditional operator\n",
    "a, b = 2.0, 20\n",
    " \n",
    "# If a is less than b, then a is assigned\n",
    "# else b is assigned (Note : it doesn't\n",
    "# work if a is 0.\n",
    "min = a < b and a or b\n",
    " \n",
    "print(min)"
   ]
  },
  {
   "cell_type": "code",
   "execution_count": 59,
   "id": "c3dbe845",
   "metadata": {},
   "outputs": [
    {
     "name": "stdout",
     "output_type": "stream",
     "text": [
      "2\n",
      "-3\n",
      "2.5\n",
      "-2.5\n"
     ]
    }
   ],
   "source": [
    "\n",
    "# A Python program to demonstrate the use of\n",
    "# \"//\" for integers\n",
    "print (5//2)\n",
    "print (-5//2)\n",
    "print (5/2)\n",
    "print (-5/2)"
   ]
  },
  {
   "cell_type": "markdown",
   "id": "7d11d604",
   "metadata": {},
   "source": [
    "## Operator Overloading in Python"
   ]
  },
  {
   "cell_type": "code",
   "execution_count": 78,
   "id": "34aa06fd",
   "metadata": {},
   "outputs": [
    {
     "name": "stdout",
     "output_type": "stream",
     "text": [
      "init a  23\n",
      "init self.a  23\n",
      "-------------\n",
      "init a  33\n",
      "init self.a  33\n",
      "-------------\n",
      "add o.a  23\n",
      "add self.a  33\n",
      "56\n"
     ]
    }
   ],
   "source": [
    "# Python Program illustrate how\n",
    "# to overload an binary + operator\n",
    "\n",
    "class A:\n",
    "    def __init__(self, a):\n",
    "        print('init a ',a)\n",
    "        self.a = a\n",
    "        print('init self.a ',self.a)\n",
    "    \n",
    "    def __add__(self, o):\n",
    "        #print('add o ',o)\n",
    "        print('add o.a ',o.a)\n",
    "        print('add self.a ',self.a)\n",
    "        return self.a + o.a\n",
    "\n",
    "ob1 = A(23)\n",
    "print('-------------')\n",
    "ob2 = A(33)\n",
    "#ob3 = A(\"Geeks\")\n",
    "#ob4 = A(\"For\")\n",
    "print('-------------')\n",
    "print(ob2 + ob1)\n",
    "#print(ob3 + ob4)\n"
   ]
  },
  {
   "cell_type": "code",
   "execution_count": 81,
   "id": "f60e7b5f",
   "metadata": {},
   "outputs": [
    {
     "name": "stdout",
     "output_type": "stream",
     "text": [
      "init a  1\n",
      "init b  2\n",
      "init self.a  1\n",
      "init self.b  2\n",
      "-------------\n",
      "init a  2\n",
      "init b  3\n",
      "init self.a  2\n",
      "init self.b  3\n",
      "-------------\n",
      "add self.a  1\n",
      "add self.b  2\n",
      "add other.a  2\n",
      "add other.b  3\n",
      "(3, 5)\n"
     ]
    }
   ],
   "source": [
    "# Python Program to perform addition\n",
    "# of two complex numbers using binary\n",
    "# + operator overloading.\n",
    " \n",
    "class complex:\n",
    "    def __init__(self, a, b):\n",
    "        print('init a ',a)\n",
    "        print('init b ',b)\n",
    "        self.a = a\n",
    "        self.b = b\n",
    "        print('init self.a ',self.a)\n",
    "        print('init self.b ',self.b)\n",
    " \n",
    "     # adding two objects\n",
    "    def __add__(self, other):\n",
    "        print('add self.a ',self.a)\n",
    "        print('add self.b ',self.b)\n",
    "        print('add other.a ',other.a)\n",
    "        print('add other.b ',other.b)\n",
    "        return self.a + other.a, self.b + other.b\n",
    "\n",
    "Ob1 = complex(1, 2)\n",
    "print('-------------')\n",
    "Ob2 = complex(2, 3)\n",
    "print('-------------')\n",
    "Ob3 = Ob1 + Ob2\n",
    "\n",
    "print(Ob3)"
   ]
  },
  {
   "cell_type": "code",
   "execution_count": 83,
   "id": "d43dbd33",
   "metadata": {},
   "outputs": [
    {
     "name": "stdout",
     "output_type": "stream",
     "text": [
      "ob2 is greater than ob1\n"
     ]
    }
   ],
   "source": [
    "# Python program to overload\n",
    "# a comparison operators\n",
    " \n",
    "class A:\n",
    "    def __init__(self, a):\n",
    "        self.a = a\n",
    "    def __gt__(self, other):\n",
    "        if(self.a>other.a):\n",
    "            return True\n",
    "        else:\n",
    "            return False\n",
    "ob1 = A(2)\n",
    "ob2 = A(3)\n",
    "if(ob1>ob2):\n",
    "    print(\"ob1 is greater than ob2\")\n",
    "else:\n",
    "    print(\"ob2 is greater than ob1\")"
   ]
  },
  {
   "cell_type": "code",
   "execution_count": 90,
   "id": "f41d5d8f",
   "metadata": {},
   "outputs": [
    {
     "name": "stdout",
     "output_type": "stream",
     "text": [
      "ob1 is less than ob2\n",
      "Not equal\n"
     ]
    }
   ],
   "source": [
    "# Python program to overload equality\n",
    "# and less than operators\n",
    " \n",
    "class A:\n",
    "    def __init__(self, a):\n",
    "        self.a = a\n",
    "    def __lt__(self, other):\n",
    "        if(self.a<other.a):\n",
    "            return \"ob1 is less than ob2\"\n",
    "        if(self.a>other.a):\n",
    "            return \"ob2 is greater than ob1\"\n",
    "        else:\n",
    "            return \"ob2 is less than ob1\"\n",
    "#     def __gt__(self, other):\n",
    "#         if(self.a>other.a):\n",
    "#             return \"ob1 is greater than ob2\"\n",
    "#         else:\n",
    "#             return \"ob2 is greater than ob1\"\n",
    "    def __eq__(self, other):\n",
    "        if(self.a == other.a):\n",
    "            return \"Both are equal\"\n",
    "        else:\n",
    "            return \"Not equal\"\n",
    "                 \n",
    "ob1 = A(25)\n",
    "ob2 = A(3)\n",
    "print(ob1 > ob2)\n",
    " \n",
    "ob3 = A(4)\n",
    "ob4 = A(4)\n",
    "print(ob1 == ob2)"
   ]
  },
  {
   "cell_type": "code",
   "execution_count": 97,
   "id": "82959b40",
   "metadata": {},
   "outputs": [
    {
     "name": "stdout",
     "output_type": "stream",
     "text": [
      "False\n",
      "True\n",
      "True\n",
      "True\n",
      "True\n",
      "True\n",
      "True\n",
      "True\n",
      "True\n",
      "False\n"
     ]
    }
   ],
   "source": [
    "# Since all are false, false is returned\n",
    "print (any([False, False, False, False]))\n",
    "  \n",
    "# Here the method will short-circuit at the\n",
    "# second item (True) and will return True.\n",
    "print (any([False, False, False, True]))\n",
    "\n",
    "print (any([False, False, True, True]))\n",
    "\n",
    "print (any([False, True, True, True]))\n",
    "\n",
    "print (any([True, True, True, True]))\n",
    "\n",
    "print (any([True, True, True, False]))\n",
    "print (any([True, True, False, False]))\n",
    "  \n",
    "# Here the method will short-circuit at the\n",
    "# first (True) and will return True.\n",
    "print (any([True, False, False, False]))\n",
    "\n",
    "print (any([True, False,True, False]))\n",
    "\n",
    "print (any([False, False,0, False]))"
   ]
  },
  {
   "cell_type": "code",
   "execution_count": 102,
   "id": "9b41c02c",
   "metadata": {},
   "outputs": [
    {
     "name": "stdout",
     "output_type": "stream",
     "text": [
      "False\n",
      "False\n",
      "False\n",
      "False\n",
      "True\n",
      "False\n",
      "False\n",
      "False\n",
      "True\n",
      "False\n",
      "False\n"
     ]
    }
   ],
   "source": [
    "# Since all are false, false is returned\n",
    "print (all([False, False, False, False]))\n",
    "  \n",
    "# Here the method will short-circuit at the\n",
    "# second item (True) and will return True.\n",
    "print (all([False, False, False, True]))\n",
    "\n",
    "print (all([False, False, True, True]))\n",
    "\n",
    "print (all([False, True, True, True]))\n",
    "\n",
    "print (all([True, True, True, True]))\n",
    "\n",
    "print (all([True, True, True, False]))\n",
    "print (all([True, True, False, False]))\n",
    "  \n",
    "# Here the method will short-circuit at the\n",
    "# first (True) and will return True.\n",
    "print (all([True, False, False, False]))\n",
    "\n",
    "print (all([True, 1,True, -1]))\n",
    "print (all([True, 1,True, 0]))\n",
    "print (all([False, False,0, False]))"
   ]
  },
  {
   "cell_type": "code",
   "execution_count": 107,
   "id": "a8fd38f8",
   "metadata": {},
   "outputs": [
    {
     "name": "stdout",
     "output_type": "stream",
     "text": [
      "[4, 8, 12, 16, 20, 24, 28, 32, 36, 40]\n",
      "[False, False, False, False, True, False, False, False, False, True]\n",
      "See whether at least one number is divisible by 5 in list 1=>\n",
      "True\n"
     ]
    }
   ],
   "source": [
    "# This code explains how can we \n",
    "# use 'any' function on list \n",
    "list1 = []\n",
    "list2 = []\n",
    "  \n",
    "# Index ranges from 1 to 10 to multiply\n",
    "for i in range(1,11):\n",
    "    list1.append(4*i) \n",
    "\n",
    "print(list1)\n",
    "# Index to access the list2 is from 0 to 9\n",
    "for i in range(0,10):\n",
    "    list2.append(list1[i]%5==0)\n",
    "\n",
    "print(list2)\n",
    "print('See whether at least one number is divisible by 5 in list 1=>')\n",
    "print(any(list2))"
   ]
  },
  {
   "cell_type": "code",
   "execution_count": 115,
   "id": "6f78865f",
   "metadata": {},
   "outputs": [
    {
     "name": "stdout",
     "output_type": "stream",
     "text": [
      "[1, 5, 9, 13, 17, 21, 25, 29, 33, 37, 41, 45, 49, 53, 57, 61, 65, 69, 73, 77]\n",
      "See whether all numbers in list1 are odd =>\n",
      "True\n"
     ]
    }
   ],
   "source": [
    "# Illustration of 'all' function in python 3\n",
    "  \n",
    "# Take two lists \n",
    "list1=[]\n",
    "list2=[]\n",
    "  \n",
    "# All numbers in list1 are in form: 4*i-3\n",
    "for i  in range(1,21):\n",
    "    list1.append(4*i-3)\n",
    "\n",
    "print(list1)\n",
    "# list2 stores info of odd numbers in list1\n",
    "for i in range(0,20):\n",
    "    list2.append(list1[i]%2==1)\n",
    "\n",
    "print('See whether all numbers in list1 are odd =>')\n",
    "\n",
    "print(all(list2))"
   ]
  },
  {
   "cell_type": "code",
   "execution_count": 117,
   "id": "ce5dd0bf",
   "metadata": {},
   "outputs": [
    {
     "name": "stdout",
     "output_type": "stream",
     "text": [
      "The addition of numbers is :7\n",
      "The difference of numbers is :1\n",
      "The product of numbers is :12\n"
     ]
    }
   ],
   "source": [
    "#import operator\n",
    "# Initializing variables\n",
    "a = 4\n",
    "  \n",
    "b = 3\n",
    "  \n",
    "# using add() to add two numbers\n",
    "print (\"The addition of numbers is :\",end=\"\");\n",
    "print (operator.add(a, b))\n",
    "  \n",
    "# using sub() to subtract two numbers\n",
    "print (\"The difference of numbers is :\",end=\"\");\n",
    "print (operator.sub(a, b))\n",
    "  \n",
    "# using mul() to multiply two numbers\n",
    "print (\"The product of numbers is :\",end=\"\");\n",
    "print (operator.mul(a, b))"
   ]
  },
  {
   "cell_type": "code",
   "execution_count": 121,
   "id": "f0205dd0",
   "metadata": {},
   "outputs": [
    {
     "name": "stdout",
     "output_type": "stream",
     "text": [
      "The true division of numbers is : 2.5\n",
      "The floor division of numbers is : 2\n",
      "The exponentiation of numbers is : 25\n",
      "The modulus of numbers is : 1\n"
     ]
    }
   ],
   "source": [
    "# Initializing variables\n",
    "a = 5\n",
    "  \n",
    "b = 2\n",
    "  \n",
    "# using truediv() to divide two numbers\n",
    "print (\"The true division of numbers is : \",end=\"\");\n",
    "print (operator.truediv(a,b))\n",
    "  \n",
    "# using floordiv() to divide two numbers\n",
    "print (\"The floor division of numbers is : \",end=\"\");\n",
    "print (operator.floordiv(a,b))\n",
    "\n",
    "# using pow() to exponentiate two numbers\n",
    "print (\"The exponentiation of numbers is : \",end=\"\");\n",
    "print (operator.pow(a,b))\n",
    "  \n",
    "# using mod() to take modulus of two numbers\n",
    "print (\"The modulus of numbers is : \",end=\"\");\n",
    "print (operator.mod(a,b))"
   ]
  },
  {
   "cell_type": "code",
   "execution_count": 124,
   "id": "1719dd28",
   "metadata": {},
   "outputs": [
    {
     "name": "stdout",
     "output_type": "stream",
     "text": [
      "[1, 5, 6, 7, 8]\n",
      "The modified list after setitem(li,3,3) is : [1, 5, 6, 3, 8]\n",
      "The modified list after delitem(li,1) is : [1, 6, 3, 8]\n",
      "The 4th element of list is : 8\n"
     ]
    }
   ],
   "source": [
    "# Initializing list\n",
    "li = [1, 5, 6, 7, 8]\n",
    " \n",
    "# printing original list\n",
    "print (li)\n",
    "\n",
    " \n",
    "# using setitem() to assign 3 at 4th position\n",
    "operator.setitem(li,3,3)\n",
    " \n",
    "# printing modified list after setitem()\n",
    "print (\"The modified list after setitem(li,3,3) is : \",end=\"\")\n",
    "print(li)\n",
    " \n",
    "# using delitem() to delete value at 2nd index\n",
    "operator.delitem(li,1)\n",
    " \n",
    "# printing modified list after delitem()\n",
    "print (\"The modified list after delitem(li,1) is : \",end=\"\")\n",
    "print(li)\n",
    "\n",
    "# using getitem() to access 4th element\n",
    "print (\"The 4th element of list is : \",end=\"\")\n",
    "print (operator.getitem(li,3))\n"
   ]
  },
  {
   "cell_type": "code",
   "execution_count": 126,
   "id": "58f9ed5f",
   "metadata": {},
   "outputs": [
    {
     "name": "stdout",
     "output_type": "stream",
     "text": [
      "[1, 5, 6, 7, 8]\n",
      "The modified list after setitem() is : [1, 2, 3, 4, 8]\n",
      "The modified list after delitem() is : [1, 2, 8]\n",
      "The 1st and 2nd element of list is : [1, 2]\n"
     ]
    }
   ],
   "source": [
    "# Initializing list\n",
    "li = [1, 5, 6, 7, 8]\n",
    " \n",
    "print (li)\n",
    " \n",
    "# using setitem() to assign 2,3,4 at 2nd,3rd and 4th index\n",
    "operator.setitem(li,slice(1,4),[2,3,4])\n",
    " \n",
    "# printing modified list after setitem()\n",
    "print (\"The modified list after setitem() is : \",end=\"\")\n",
    "print (li)\n",
    "\n",
    "# using delitem() to delete value at 3rd and 4th index\n",
    "operator.delitem(li,slice(2,4))\n",
    " \n",
    "# printing modified list after delitem()\n",
    "print (\"The modified list after delitem() is : \",end=\"\")\n",
    "print (li)\n",
    "# using getitem() to access 1st and 2nd element\n",
    "print (\"The 1st and 2nd element of list is : \",end=\"\")\n",
    "print (operator.getitem(li,slice(0,2)))"
   ]
  },
  {
   "cell_type": "code",
   "execution_count": 135,
   "id": "e574910f",
   "metadata": {},
   "outputs": [
    {
     "name": "stdout",
     "output_type": "stream",
     "text": [
      "The concatenated string is : geeksforgeeks\n",
      "geeksfor contains geeks\n"
     ]
    }
   ],
   "source": [
    "# Initializing string 1\n",
    "s1 = \"geeksfor\"\n",
    " \n",
    "# Initializing string 2\n",
    "s2 = \"geeks\"\n",
    " \n",
    "# using concat() to concatenate two strings\n",
    "print (\"The concatenated string is : \",end=\"\")\n",
    "print (operator.concat(s1,s2))\n",
    " \n",
    "# using contains() to check if s1 contains s2\n",
    "if (operator.contains(s1,s2)):\n",
    "       print (\"geeksfor contains geeks\")\n",
    "else : print (\"geeksfor does not contain geeks\")"
   ]
  },
  {
   "cell_type": "code",
   "execution_count": 137,
   "id": "2781b356",
   "metadata": {},
   "outputs": [
    {
     "name": "stdout",
     "output_type": "stream",
     "text": [
      "The bitwise and of a and b is : 0\n",
      "The bitwise or of a and b is : 1\n",
      "The bitwise xor of a and b is : 1\n",
      "The inverted value of a is : -2\n"
     ]
    }
   ],
   "source": [
    "# Initializing a and b\n",
    " \n",
    "a = 1\n",
    " \n",
    "b = 0\n",
    " \n",
    "# using and_() to display bitwise and operation\n",
    "print (\"The bitwise and of a and b is : \",end=\"\")\n",
    "print (operator.and_(a,b))\n",
    " \n",
    "# using or_() to display bitwise or operation\n",
    "print (\"The bitwise or of a and b is : \",end=\"\")\n",
    "print (operator.or_(a,b))\n",
    " \n",
    "# using xor() to display bitwise exclusive or operation\n",
    "print (\"The bitwise xor of a and b is : \",end=\"\")\n",
    "print (operator.xor(a,b))\n",
    " \n",
    "# using invert() to invert value of a\n",
    "operator.invert(a)\n",
    " \n",
    "# printing modified value\n",
    "print (\"The inverted value of a is : \",end=\"\")\n",
    "print (operator.invert(a))"
   ]
  },
  {
   "cell_type": "code",
   "execution_count": 147,
   "id": "2ab621fb",
   "metadata": {},
   "outputs": [
    {
     "name": "stdout",
     "output_type": "stream",
     "text": [
      "id list1  1757767041408\n",
      "id list2  1757766776192\n",
      "id list3  1757767041408\n",
      "list1 [1, 2, 3, 4]\n",
      "list2 [1, 2, 3, 4]\n",
      "list3 [1, 2, 3, 4]\n",
      "is list1 == list2True\n",
      "is list1 is list2False\n",
      "id s1  1757747613808\n",
      "id s2  1757747613808\n",
      "is s1 is s2True\n",
      "is list1 is list3True\n",
      "id list1  1757767041408\n",
      "id list2  1757766776192\n",
      "id list3  1757765200192\n",
      "is list3 = list3 + list2 , list1 is list3False\n"
     ]
    }
   ],
   "source": [
    "# python3 code to\n",
    "# illustrate the\n",
    "# difference between\n",
    "# == and is operator\n",
    "# [] is an empty list\n",
    "'''\n",
    "The Equality operator (==) compares the values of both the operands and checks for value equality. \n",
    "Whereas \n",
    "the ‘is’ operator checks whether both the operands refer to the same object or not (present in the same memory location).\n",
    "'''\n",
    "list1 = [1,2,3,4]\n",
    "list2 = [1,2,3,4]\n",
    "list3=list1\n",
    "print('id list1 ',id(list1))\n",
    "print('id list2 ',id(list2))\n",
    "print('id list3 ',id(list3))\n",
    "\n",
    "s1=\"Prakhar\"\n",
    "s2=\"Prakhar\"\n",
    "print('list1',list1)\n",
    "\n",
    "print('list2',list2)\n",
    "\n",
    "print('list3',list3)\n",
    "print('is list1 == list2', end='')\n",
    "if (list1 == list2):\n",
    "    print(\"True\")\n",
    "else:\n",
    "    print(\"False\")\n",
    "\n",
    "print('is list1 is list2', end='')\n",
    "if (list1 is list2):\n",
    "    print(\"True\")\n",
    "else:\n",
    "    print(\"False\")\n",
    "\n",
    "print('id s1 ',id(s1))\n",
    "print('id s2 ',id(s2))\n",
    "print('is s1 is s2', end='')\n",
    "if (s1 is s2):\n",
    "    print(\"True\")\n",
    "else:\n",
    "    print(\"False\")\n",
    "\n",
    "print('is list1 is list3', end='')\n",
    "if (list1 is list3):\n",
    "    print(\"True\")\n",
    "else:   \n",
    "    print(\"False\")\n",
    "\n",
    "print('id list1 ',id(list1))\n",
    "print('id list2 ',id(list2))\n",
    "\n",
    "list3 = list3 + list2\n",
    "print('id list3 ',id(list3))\n",
    "\n",
    "print('is list3 = list3 + list2 , list1 is list3', end='')\n",
    "if (list1 is list3):\n",
    "    print(\"True\")\n",
    "else:   \n",
    "    print(\"False\")"
   ]
  },
  {
   "cell_type": "code",
   "execution_count": 167,
   "id": "33a594dd",
   "metadata": {},
   "outputs": [
    {
     "name": "stdout",
     "output_type": "stream",
     "text": [
      "item on list l1 is not overlapping in item of list l2  6\n",
      "item on list l1 is not overlapping in item of list l2  7\n",
      "item on list l1 is not overlapping in item of list l2  8\n",
      "item on list1 is overlapping in item of list l2  5\n",
      "item on list1 is overlapping in item of list l2  1\n",
      "item on list1 is overlapping in item of list l2  2\n",
      "item on list1 is overlapping in item of list l2  3\n",
      "item on list1 is overlapping in item of list l2  4\n",
      "item on list1 is overlapping in item of list l2  5\n"
     ]
    }
   ],
   "source": [
    "# Python program to illustrate\n",
    "# Finding common member in list\n",
    "# using 'in' operator\n",
    "list1=[6,7,8,5,1,2,3,4,5]\n",
    "list2=[1,2,3,4,5]\n",
    "for item in list1:\n",
    "    if item in list2:\n",
    "        print(\"item on list1 is overlapping in item of list l2 \",item)     \n",
    "    else:\n",
    "        print(\"item on list l1 is not overlapping in item of list l2 \",item)"
   ]
  },
  {
   "cell_type": "code",
   "execution_count": 170,
   "id": "535dd219",
   "metadata": {},
   "outputs": [
    {
     "name": "stdout",
     "output_type": "stream",
     "text": [
      "c  1\n",
      "c  2\n",
      "c  3\n",
      "c  4\n",
      "c  5\n",
      "d  1\n",
      "d  2\n",
      "d  3\n",
      "d  4\n",
      "list1[i]  1\n",
      "list2[j]  6\n",
      "list1[i]  1\n",
      "list2[j]  7\n",
      "list1[i]  1\n",
      "list2[j]  8\n",
      "list1[i]  1\n",
      "list2[j]  9\n",
      "list1[i]  2\n",
      "list2[j]  6\n",
      "list1[i]  2\n",
      "list2[j]  7\n",
      "list1[i]  2\n",
      "list2[j]  8\n",
      "list1[i]  2\n",
      "list2[j]  9\n",
      "list1[i]  3\n",
      "list2[j]  6\n",
      "list1[i]  3\n",
      "list2[j]  7\n",
      "list1[i]  3\n",
      "list2[j]  8\n",
      "list1[i]  3\n",
      "list2[j]  9\n",
      "list1[i]  4\n",
      "list2[j]  6\n",
      "list1[i]  4\n",
      "list2[j]  7\n",
      "list1[i]  4\n",
      "list2[j]  8\n",
      "list1[i]  4\n",
      "list2[j]  9\n",
      "list1[i]  5\n",
      "list2[j]  6\n",
      "list1[i]  5\n",
      "list2[j]  7\n",
      "list1[i]  5\n",
      "list2[j]  8\n",
      "list1[i]  5\n",
      "list2[j]  9\n",
      "not overlapping\n"
     ]
    }
   ],
   "source": [
    "# Python program to illustrate\n",
    "# Finding common member in list\n",
    "# without  using 'in' operator\n",
    " \n",
    "#  Define a function() that takes two lists\n",
    "def overlapping(list1,list2):\n",
    "    c=0\n",
    "    d=0\n",
    "    for i in list1:\n",
    "        c+=1\n",
    "        print('c ',c)\n",
    "    for i in list2:\n",
    "        d+=1\n",
    "        print('d ',d)\n",
    "    for i in range(0,c):\n",
    "        for j in range(0,d):\n",
    "            print('list1[i] ',list1[i])\n",
    "            print('list2[j] ',list2[j])\n",
    "            if(list1[i]==list2[j]):\n",
    "                return 1\n",
    "    return 0\n",
    "list1=[1,2,3,4,5]\n",
    "list2=[6,7,8,9]\n",
    "if(overlapping(list1,list2)):\n",
    "    print(\"overlapping\")\n",
    "else:\n",
    "    print(\"not overlapping\")"
   ]
  }
 ],
 "metadata": {
  "kernelspec": {
   "display_name": "Python 3 (ipykernel)",
   "language": "python",
   "name": "python3"
  },
  "language_info": {
   "codemirror_mode": {
    "name": "ipython",
    "version": 3
   },
   "file_extension": ".py",
   "mimetype": "text/x-python",
   "name": "python",
   "nbconvert_exporter": "python",
   "pygments_lexer": "ipython3",
   "version": "3.9.7"
  }
 },
 "nbformat": 4,
 "nbformat_minor": 5
}
