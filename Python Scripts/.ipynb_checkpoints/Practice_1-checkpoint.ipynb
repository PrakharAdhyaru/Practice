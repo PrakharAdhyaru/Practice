{
 "cells": [
  {
   "cell_type": "code",
   "execution_count": null,
   "id": "1a43c6e8",
   "metadata": {},
   "outputs": [],
   "source": [
    "print(2+2)"
   ]
  },
  {
   "cell_type": "code",
   "execution_count": null,
   "id": "e86d6127",
   "metadata": {},
   "outputs": [],
   "source": [
    "name = input('Prakhar')\n",
    "print('Hello'+ name)"
   ]
  },
  {
   "cell_type": "code",
   "execution_count": null,
   "id": "dd06c349",
   "metadata": {},
   "outputs": [],
   "source": [
    "name = 'Prakhar Adhyaru'\n",
    "print('Hello ' + name)"
   ]
  },
  {
   "cell_type": "code",
   "execution_count": null,
   "id": "2fc121c5",
   "metadata": {},
   "outputs": [],
   "source": [
    "float(5/2.1)"
   ]
  },
  {
   "cell_type": "code",
   "execution_count": null,
   "id": "0451bdba",
   "metadata": {},
   "outputs": [],
   "source": [
    "x=3 ; y=2\n",
    "x+3\n",
    "_ + y"
   ]
  },
  {
   "cell_type": "code",
   "execution_count": null,
   "id": "d17fdfae",
   "metadata": {},
   "outputs": [],
   "source": [
    "name = 'Prakhar'\n",
    "name[1:]"
   ]
  },
  {
   "cell_type": "code",
   "execution_count": null,
   "id": "f6fe6320",
   "metadata": {},
   "outputs": [],
   "source": [
    "a= 7\n",
    "print('a is of type ', type(a))\n",
    "b = 2.9\n",
    "print('b is of type ', type(b))\n",
    "c = 'Prakhar'\n",
    "print('c is of type ', type(c))\n",
    "d = float(a/b)\n",
    "print('d is of type ', type(d), 'value of d ',d)\n",
    "e = a/b\n",
    "print('e is of type ', type(e), 'value of d ',e)\n"
   ]
  },
  {
   "cell_type": "markdown",
   "id": "44886863",
   "metadata": {},
   "source": [
    "#Collection\n",
    "1) List\n",
    "2) Tuple\n",
    "3) Set\n",
    "4) Dictionary"
   ]
  },
  {
   "cell_type": "code",
   "execution_count": null,
   "id": "5a703c0e",
   "metadata": {},
   "outputs": [],
   "source": [
    "simple_list = [\"Prakhar\",2,3,4,'python',3.9]\n",
    "print(simple_list)\n",
    "print(simple_list[0])\n",
    "print(simple_list[2])\n",
    "print(simple_list[4])\n",
    "print(simple_list[-1])\n",
    "print(simple_list[-5])\n",
    "print(simple_list[-6])\n",
    "print('length of the list is ', len(simple_list))\n"
   ]
  },
  {
   "cell_type": "code",
   "execution_count": null,
   "id": "89aa4ec6",
   "metadata": {},
   "outputs": [],
   "source": [
    "# we can change the values in the list - list is mutable\n",
    "simple_list[3] = 52\n",
    "print('After we change list index value ',simple_list)\n",
    "simple_list.append(\"append to the last\")\n",
    "print(simple_list)\n",
    "print('length of the list is ', len(simple_list))\n",
    "\n",
    "simple_list.pop(4)\n",
    "print(simple_list)\n"
   ]
  },
  {
   "cell_type": "code",
   "execution_count": null,
   "id": "ec91f337",
   "metadata": {},
   "outputs": [],
   "source": [
    "repeated_list = [5]*4\n",
    "print(repeated_list)"
   ]
  },
  {
   "cell_type": "code",
   "execution_count": null,
   "id": "97b99965",
   "metadata": {},
   "outputs": [],
   "source": [
    "simple_list[1] = [1,2,3]\n",
    "print(simple_list)\n",
    "print(simple_list[1])\n",
    "print(simple_list[1][1])"
   ]
  },
  {
   "cell_type": "code",
   "execution_count": null,
   "id": "d0aeab06",
   "metadata": {},
   "outputs": [],
   "source": [
    "list2= simple_list\n",
    "print(list2)\n",
    "print(simple_list)\n",
    "list2[1]= 0\n",
    "print(list2)\n",
    "print(simple_list)\n"
   ]
  },
  {
   "cell_type": "code",
   "execution_count": null,
   "id": "6c2c61d7",
   "metadata": {},
   "outputs": [],
   "source": [
    "list3 = simple_list.copy()\n",
    "print(list3)\n",
    "print(simple_list)\n",
    "list3[1]='Adhyaru'\n",
    "\n",
    "print(list3)\n",
    "print(simple_list)"
   ]
  },
  {
   "cell_type": "code",
   "execution_count": null,
   "id": "704c89e5",
   "metadata": {},
   "outputs": [],
   "source": [
    "simple_touple=(12,9,4,8,6)\n",
    "print(simple_touple)\n",
    "print(simple_touple[1])\n",
    "print(simple_touple[-1])"
   ]
  },
  {
   "cell_type": "code",
   "execution_count": null,
   "id": "6da7fe85",
   "metadata": {},
   "outputs": [],
   "source": [
    "simple_touple[1] = 5\n",
    "print(simple_touple)"
   ]
  },
  {
   "cell_type": "code",
   "execution_count": null,
   "id": "de4f33e2",
   "metadata": {},
   "outputs": [],
   "source": [
    "#work around to change values of tuple \n",
    "dummy = list(simple_touple)\n",
    "dummy[1] =24\n",
    "simple_touple=tuple(dummy)\n",
    "print(simple_touple)"
   ]
  },
  {
   "cell_type": "code",
   "execution_count": null,
   "id": "d66c3666",
   "metadata": {},
   "outputs": [],
   "source": [
    "simple_set = {6.1,11,5,-2,-2,'abc'}\n",
    "print(simple_set)"
   ]
  },
  {
   "cell_type": "code",
   "execution_count": null,
   "id": "09281595",
   "metadata": {},
   "outputs": [],
   "source": [
    "print(simple_set[1])"
   ]
  },
  {
   "cell_type": "code",
   "execution_count": null,
   "id": "512be996",
   "metadata": {},
   "outputs": [],
   "source": [
    "print('abc' in simple_set)"
   ]
  },
  {
   "cell_type": "code",
   "execution_count": null,
   "id": "ef63d162",
   "metadata": {},
   "outputs": [],
   "source": [
    "simple_set.add(100)\n",
    "print(simple_set)\n",
    "simple_set.remove('abc')\n",
    "print(simple_set)"
   ]
  },
  {
   "cell_type": "code",
   "execution_count": null,
   "id": "420defde",
   "metadata": {},
   "outputs": [],
   "source": [
    "simple_dict = {\n",
    "    \"brand\":\"apple\",\n",
    "    \"model\": \"XR\",\n",
    "    \"color\": \"Red\"\n",
    "}\n",
    "print(simple_dict)"
   ]
  },
  {
   "cell_type": "code",
   "execution_count": null,
   "id": "4d28f278",
   "metadata": {},
   "outputs": [],
   "source": [
    "simple_dict[\"model\"]=\"13R\"\n",
    "print(simple_dict)"
   ]
  },
  {
   "cell_type": "code",
   "execution_count": null,
   "id": "9d6cbbba",
   "metadata": {},
   "outputs": [],
   "source": [
    "simple_dict[\"product\"] = 'IPhone'\n",
    "print(simple_dict)\n"
   ]
  },
  {
   "cell_type": "code",
   "execution_count": 6,
   "id": "f5acac1d",
   "metadata": {},
   "outputs": [
    {
     "name": "stdout",
     "output_type": "stream",
     "text": [
      "[5, 7, 3]\n",
      "[5]\n",
      "[]\n",
      "[7, 3, 4]\n",
      "[5, 7, 3, 4, 9, 10]\n",
      "[19, 2, 5, 7, 3, 4, 9]\n"
     ]
    }
   ],
   "source": [
    "simple_list=[19,2,5,7,3,4,9,10]\n",
    "print(simple_list[2:5])\n",
    "print(simple_list[2:3])\n",
    "print(simple_list[2:2])\n",
    "print(simple_list[-5:-2])\n",
    "print(simple_list[2:])\n",
    "print(simple_list[:7])"
   ]
  },
  {
   "cell_type": "code",
   "execution_count": 21,
   "id": "b32a683d",
   "metadata": {},
   "outputs": [
    {
     "name": "stdout",
     "output_type": "stream",
     "text": [
      "{'Monday': 53.6, 'Tuesday': 57.2, 'Wednesday': 59.0, 'Thursday': 57.2, 'Friday': 69.8, 'Saturday': 71.6, 'Sunday': 75.2}\n"
     ]
    }
   ],
   "source": [
    "weather_c = { \"Monday\": 12, \"Tuesday\": 14, \"Wednesday\": 15, \"Thursday\": 14, \"Friday\": 21, \"Saturday\": 22, \"Sunday\": 24}\n",
    "weather_f={key: (weather_c[key]*9/5)+32  for key in weather_c}\n",
    "print(weather_f)"
   ]
  },
  {
   "cell_type": "code",
   "execution_count": null,
   "id": "b786ec49",
   "metadata": {},
   "outputs": [],
   "source": []
  }
 ],
 "metadata": {
  "kernelspec": {
   "display_name": "Python 3 (ipykernel)",
   "language": "python",
   "name": "python3"
  },
  "language_info": {
   "codemirror_mode": {
    "name": "ipython",
    "version": 3
   },
   "file_extension": ".py",
   "mimetype": "text/x-python",
   "name": "python",
   "nbconvert_exporter": "python",
   "pygments_lexer": "ipython3",
   "version": "3.9.7"
  }
 },
 "nbformat": 4,
 "nbformat_minor": 5
}
